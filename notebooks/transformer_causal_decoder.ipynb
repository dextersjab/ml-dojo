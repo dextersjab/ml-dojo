{
 "cells": [
  {
   "cell_type": "markdown",
   "source": [
    "# Transformer: causal decoder model"
   ],
   "metadata": {
    "collapsed": false,
    "pycharm": {
     "name": "#%% md\n"
    }
   }
  },
  {
   "cell_type": "markdown",
   "source": [
    "A re-implementation of Andrej Karpahty's GPT from scratch [lecture](https://www.youtube.com/watch?v=kCc8FmEb1nY).\n",
    "\n",
    "I rewrote it for my own learning. Titles, comments and variables names are focused on conciseness and clarity.\n",
    "\n",
    "Also, Drake lyrics instead of Shakespeare so we can to accelerate the birth of Drake AI."
   ],
   "metadata": {
    "collapsed": false,
    "pycharm": {
     "name": "#%% md\n"
    }
   }
  },
  {
   "cell_type": "markdown",
   "source": [
    "## Set up environment"
   ],
   "metadata": {
    "collapsed": false,
    "pycharm": {
     "name": "#%% md\n"
    }
   }
  },
  {
   "cell_type": "code",
   "execution_count": 1,
   "outputs": [
    {
     "data": {
      "text/plain": "<torch._C.Generator at 0x7fb17062d050>"
     },
     "execution_count": 1,
     "metadata": {},
     "output_type": "execute_result"
    }
   ],
   "source": [
    "import torch\n",
    "import torch.nn as nn\n",
    "from torch.nn import functional as F\n",
    "torch.manual_seed(1337)"
   ],
   "metadata": {
    "collapsed": false,
    "pycharm": {
     "name": "#%%\n"
    }
   }
  },
  {
   "cell_type": "markdown",
   "source": [
    "## Prepare data"
   ],
   "metadata": {
    "collapsed": false,
    "pycharm": {
     "name": "#%% md\n"
    }
   }
  },
  {
   "cell_type": "code",
   "execution_count": 2,
   "outputs": [
    {
     "name": "stdout",
     "output_type": "stream",
     "text": [
      "770,711\n"
     ]
    }
   ],
   "source": [
    "# Read Drake lyrics into memory\n",
    "with open('../data/drake_lyrics.txt', 'r', encoding='utf-8') as f:\n",
    "    text = f.read()\n",
    "print(f\"{len(text):,}\")"
   ],
   "metadata": {
    "collapsed": false,
    "pycharm": {
     "name": "#%%\n"
    }
   }
  },
  {
   "cell_type": "code",
   "execution_count": 3,
   "outputs": [
    {
     "name": "stdout",
     "output_type": "stream",
     "text": [
      "\"[Verse]\n",
      "Put my feelings on ice\n",
      "Always been a gem\n",
      "Certified lover boy, somehow still heartless\n",
      "Heart is only gettin' colder\"\n",
      "\"[Verse]\n",
      "Hands are tied\n",
      "Someone's in my ear from the other side\n",
      "Tellin' me that I should pay you no mind\n",
      "Wanted you to not be with me all night\n",
      "Wanted you to not stay with me all night\n",
      "I know, you know, who that person is to me\n",
      "Doesn't really change things\n",
      "\n",
      "[Chorus]\n",
      "I know you're scared of dating, falling for me\n",
      "Shorty, surely you know me\n",
      "Right here for you always\n",
      "You know, I don't ever change\n",
      "Right here for you always\n",
      "You know I don't ever change\n",
      "Right here for you\n",
      "\n",
      "[Bridge]\n",
      "In mind you make me want to do things, love you\n",
      "Like I'm supposed to\n",
      "You make me want to love you\n",
      "Like I'm supposed to\n",
      "You make me want to love you\n",
      "Like I'm supposed to, remind you\n",
      "Ayy\n",
      "\n",
      "[Chorus]\n",
      "I know you're scared of dating, falling for me\n",
      "Shorty, by now you know me\n",
      "Right here for you always\n",
      "You know, I don't ever change\n",
      "Right here for you always\n",
      "You know I don't ever change\n",
      "Right here for\n"
     ]
    }
   ],
   "source": [
    "# Preview text\n",
    "print(text[:1000])"
   ],
   "metadata": {
    "collapsed": false,
    "pycharm": {
     "name": "#%%\n"
    }
   }
  },
  {
   "cell_type": "markdown",
   "source": [
    "## Create character vocabulary and embeddings"
   ],
   "metadata": {
    "collapsed": false,
    "pycharm": {
     "name": "#%% md\n"
    }
   }
  },
  {
   "cell_type": "code",
   "execution_count": 4,
   "outputs": [
    {
     "name": "stdout",
     "output_type": "stream",
     "text": [
      "\n",
      " !\"$%&'()*+,-./0123456789:;?ABCDEFGHIJKLMNOPQRSTUVWXYZ[]_abcdefghijklmnopqrstuvwxyz{|}àáèéëñóú –—‘’“”… \n",
      "104\n"
     ]
    }
   ],
   "source": [
    "chars = sorted(list(set(text)))\n",
    "vocab_size = len(chars)\n",
    "print(''.join(chars))\n",
    "print(vocab_size)"
   ],
   "metadata": {
    "collapsed": false,
    "pycharm": {
     "name": "#%%\n"
    }
   }
  },
  {
   "cell_type": "markdown",
   "source": [
    "## Set up token encoder and decoder"
   ],
   "metadata": {
    "collapsed": false,
    "pycharm": {
     "name": "#%% md\n"
    }
   }
  },
  {
   "cell_type": "code",
   "execution_count": 5,
   "outputs": [
    {
     "name": "stdout",
     "output_type": "stream",
     "text": [
      "[65, 62, 69, 69, 72, 1, 80, 72, 75, 69, 61]\n",
      "hello world\n"
     ]
    }
   ],
   "source": [
    "s2i = { ch:i for i,ch in enumerate(chars) }\n",
    "i2s = { i:ch for i,ch in enumerate(chars) }\n",
    "encode = lambda s: [s2i[c] for c in s]\n",
    "decode = lambda l: ''.join([i2s[i] for i in l])\n",
    "\n",
    "print(encode(\"hello world\"))\n",
    "print(decode(encode(\"hello world\")))"
   ],
   "metadata": {
    "collapsed": false,
    "pycharm": {
     "name": "#%%\n"
    }
   }
  },
  {
   "cell_type": "code",
   "execution_count": 6,
   "outputs": [
    {
     "name": "stdout",
     "output_type": "stream",
     "text": [
      "torch.Size([770711]) torch.int64\n",
      "tensor([ 3, 55, 50, 62, 75, 76, 62, 56,  0, 44, 78, 77,  1, 70, 82,  1, 63, 62,\n",
      "        62, 69, 66, 71, 64, 76,  1, 72, 71,  1, 66, 60, 62,  0, 29, 69, 80, 58,\n",
      "        82, 76,  1, 59, 62, 62, 71,  1, 58,  1, 64, 62, 70,  0, 31, 62, 75, 77,\n",
      "        66, 63, 66, 62, 61,  1, 69, 72, 79, 62, 75,  1, 59, 72, 82, 12,  1, 76,\n",
      "        72, 70, 62, 65, 72, 80,  1, 76, 77, 66, 69, 69,  1, 65, 62, 58, 75, 77,\n",
      "        69, 62, 76, 76,  0, 36, 62, 58, 75, 77,  1, 66, 76,  1, 72, 71, 69, 82,\n",
      "         1, 64, 62, 77, 77, 66, 71,  7,  1, 60, 72, 69, 61, 62, 75,  3,  0,  3,\n",
      "        55, 50, 62, 75, 76, 62, 56,  0, 36, 58, 71, 61, 76,  1, 58, 75, 62,  1,\n",
      "        77, 66, 62, 61,  0, 47, 72, 70, 62, 72, 71, 62,  7, 76,  1, 66, 71,  1,\n",
      "        70, 82,  1, 62, 58, 75,  1, 63, 75, 72, 70,  1, 77, 65, 62,  1, 72, 77,\n",
      "        65, 62, 75,  1, 76, 66, 61, 62,  0, 48, 62, 69, 69, 66, 71,  7,  1, 70,\n",
      "        62,  1, 77, 65, 58, 77,  1, 37,  1, 76, 65, 72, 78, 69, 61,  1, 73, 58,\n",
      "        82,  1, 82, 72, 78,  1, 71, 72,  1, 70, 66, 71, 61,  0, 51, 58, 71, 77,\n",
      "        62, 61,  1, 82, 72, 78,  1, 77, 72,  1, 71, 72, 77,  1, 59, 62,  1, 80,\n",
      "        66, 77, 65,  1, 70, 62,  1, 58, 69, 69,  1, 71, 66, 64, 65, 77,  0, 51,\n",
      "        58, 71, 77, 62, 61,  1, 82, 72, 78,  1, 77, 72,  1, 71, 72, 77,  1, 76,\n",
      "        77, 58, 82,  1, 80, 66, 77, 65,  1, 70, 62,  1, 58, 69, 69,  1, 71, 66,\n",
      "        64, 65, 77,  0, 37,  1, 68, 71, 72, 80, 12,  1, 82, 72, 78,  1, 68, 71,\n",
      "        72, 80, 12,  1, 80, 65, 72,  1, 77, 65, 58, 77,  1, 73, 62, 75, 76, 72,\n",
      "        71,  1, 66, 76,  1, 77, 72,  1, 70, 62,  0, 32, 72, 62, 76, 71,  7, 77,\n",
      "         1, 75, 62, 58, 69, 69, 82,  1, 60, 65, 58, 71, 64, 62,  1, 77, 65, 66,\n",
      "        71, 64, 76,  0,  0, 55, 31, 65, 72, 75, 78, 76, 56,  0, 37,  1, 68, 71,\n",
      "        72, 80,  1, 82, 72, 78,  7, 75, 62,  1, 76, 60, 58, 75, 62, 61,  1, 72,\n",
      "        63,  1, 61, 58, 77, 66, 71, 64, 12,  1, 63, 58, 69, 69, 66, 71, 64,  1,\n",
      "        63, 72, 75,  1, 70, 62,  0, 47, 65, 72, 75, 77, 82, 12,  1, 76, 78, 75,\n",
      "        62, 69, 82,  1, 82, 72, 78,  1, 68, 71, 72, 80,  1, 70, 62,  0, 46, 66,\n",
      "        64, 65, 77,  1, 65, 62, 75, 62,  1, 63, 72, 75,  1, 82, 72, 78,  1, 58,\n",
      "        69, 80, 58, 82, 76,  0, 53, 72, 78,  1, 68, 71, 72, 80, 12,  1, 37,  1,\n",
      "        61, 72, 71,  7, 77,  1, 62, 79, 62, 75,  1, 60, 65, 58, 71, 64, 62,  0,\n",
      "        46, 66, 64, 65, 77,  1, 65, 62, 75, 62,  1, 63, 72, 75,  1, 82, 72, 78,\n",
      "         1, 58, 69, 80, 58, 82, 76,  0, 53, 72, 78,  1, 68, 71, 72, 80,  1, 37,\n",
      "         1, 61, 72, 71,  7, 77,  1, 62, 79, 62, 75,  1, 60, 65, 58, 71, 64, 62,\n",
      "         0, 46, 66, 64, 65, 77,  1, 65, 62, 75, 62,  1, 63, 72, 75,  1, 82, 72,\n",
      "        78,  0,  0, 55, 30, 75, 66, 61, 64, 62, 56,  0, 37, 71,  1, 70, 66, 71,\n",
      "        61,  1, 82, 72, 78,  1, 70, 58, 68, 62,  1, 70, 62,  1, 80, 58, 71, 77,\n",
      "         1, 77, 72,  1, 61, 72,  1, 77, 65, 66, 71, 64, 76, 12,  1, 69, 72, 79,\n",
      "        62,  1, 82, 72, 78,  0, 40, 66, 68, 62,  1, 37,  7, 70,  1, 76, 78, 73,\n",
      "        73, 72, 76, 62, 61,  1, 77, 72,  0, 53, 72, 78,  1, 70, 58, 68, 62,  1,\n",
      "        70, 62,  1, 80, 58, 71, 77,  1, 77, 72,  1, 69, 72, 79, 62,  1, 82, 72,\n",
      "        78,  0, 40, 66, 68, 62,  1, 37,  7, 70,  1, 76, 78, 73, 73, 72, 76, 62,\n",
      "        61,  1, 77, 72,  0, 53, 72, 78,  1, 70, 58, 68, 62,  1, 70, 62,  1, 80,\n",
      "        58, 71, 77,  1, 77, 72,  1, 69, 72, 79, 62,  1, 82, 72, 78,  0, 40, 66,\n",
      "        68, 62,  1, 37,  7, 70,  1, 76, 78, 73, 73, 72, 76, 62, 61,  1, 77, 72,\n",
      "        12,  1, 75, 62, 70, 66, 71, 61,  1, 82, 72, 78,  0, 29, 82, 82,  0,  0,\n",
      "        55, 31, 65, 72, 75, 78, 76, 56,  0, 37,  1, 68, 71, 72, 80,  1, 82, 72,\n",
      "        78,  7, 75, 62,  1, 76, 60, 58, 75, 62, 61,  1, 72, 63,  1, 61, 58, 77,\n",
      "        66, 71, 64, 12,  1, 63, 58, 69, 69, 66, 71, 64,  1, 63, 72, 75,  1, 70,\n",
      "        62,  0, 47, 65, 72, 75, 77, 82, 12,  1, 59, 82,  1, 71, 72, 80,  1, 82,\n",
      "        72, 78,  1, 68, 71, 72, 80,  1, 70, 62,  0, 46, 66, 64, 65, 77,  1, 65,\n",
      "        62, 75, 62,  1, 63, 72, 75,  1, 82, 72, 78,  1, 58, 69, 80, 58, 82, 76,\n",
      "         0, 53, 72, 78,  1, 68, 71, 72, 80, 12,  1, 37,  1, 61, 72, 71,  7, 77,\n",
      "         1, 62, 79, 62, 75,  1, 60, 65, 58, 71, 64, 62,  0, 46, 66, 64, 65, 77,\n",
      "         1, 65, 62, 75, 62,  1, 63, 72, 75,  1, 82, 72, 78,  1, 58, 69, 80, 58,\n",
      "        82, 76,  0, 53, 72, 78,  1, 68, 71, 72, 80,  1, 37,  1, 61, 72, 71,  7,\n",
      "        77,  1, 62, 79, 62, 75,  1, 60, 65, 58, 71, 64, 62,  0, 46, 66, 64, 65,\n",
      "        77,  1, 65, 62, 75, 62,  1, 63, 72, 75])\n"
     ]
    }
   ],
   "source": [
    "# Create token stream (`data: Tensor`) from encoded text (tokens)\n",
    "import torch\n",
    "data = torch.tensor(encode(text), dtype=torch.long)\n",
    "print(data.shape, data.dtype)\n",
    "print(data[:1000])"
   ],
   "metadata": {
    "collapsed": false,
    "pycharm": {
     "name": "#%%\n"
    }
   }
  },
  {
   "cell_type": "markdown",
   "source": [
    "## Set up hyperparameters"
   ],
   "metadata": {
    "collapsed": false,
    "pycharm": {
     "name": "#%% md\n"
    }
   }
  },
  {
   "cell_type": "code",
   "execution_count": 7,
   "outputs": [],
   "source": [
    "block_size = 8  # max context length for predictions\n",
    "batch_size = 4  # num parallel sequences to process\n",
    "learning_rate = 1e-3\n",
    "device = 'cuda' if torch.cuda.is_available() else 'cpu'\n",
    "eval_interval = 300\n",
    "eval_iters = 200\n",
    "max_iters = 5000\n",
    "n_heads = 4\n",
    "n_block_layers = 12"
   ],
   "metadata": {
    "collapsed": false,
    "pycharm": {
     "name": "#%%\n"
    }
   }
  },
  {
   "cell_type": "markdown",
   "source": [
    "## Prepare training data"
   ],
   "metadata": {
    "collapsed": false,
    "pycharm": {
     "name": "#%% md\n"
    }
   }
  },
  {
   "cell_type": "markdown",
   "source": [
    "Split data into training and validation set"
   ],
   "metadata": {
    "collapsed": false,
    "pycharm": {
     "name": "#%% md\n"
    }
   }
  },
  {
   "cell_type": "code",
   "execution_count": 8,
   "outputs": [
    {
     "name": "stdout",
     "output_type": "stream",
     "text": [
      "693639\n",
      "77072\n"
     ]
    }
   ],
   "source": [
    "n = int(.9*len(data))\n",
    "train_data = data[:n]\n",
    "val_data = data[n:]\n",
    "print(len(train_data))\n",
    "print(len(val_data))"
   ],
   "metadata": {
    "collapsed": false,
    "pycharm": {
     "name": "#%%\n"
    }
   }
  },
  {
   "cell_type": "code",
   "execution_count": 9,
   "outputs": [
    {
     "name": "stdout",
     "output_type": "stream",
     "text": [
      "[3] -> 55\n",
      "[3, 55] -> 50\n",
      "[3, 55, 50] -> 62\n",
      "[3, 55, 50, 62] -> 75\n",
      "[3, 55, 50, 62, 75] -> 76\n",
      "[3, 55, 50, 62, 75, 76] -> 62\n",
      "[3, 55, 50, 62, 75, 76, 62] -> 56\n",
      "[3, 55, 50, 62, 75, 76, 62, 56] -> 0\n"
     ]
    }
   ],
   "source": [
    "# X is training inputs\n",
    "# Y is target outputs (labels)\n",
    "x = train_data[:block_size]\n",
    "y = train_data[1:block_size+1]\n",
    "for t in range(block_size):\n",
    "    context = x[:t+1]\n",
    "    target = y[t]\n",
    "    print(f\"{context.tolist()} -> {target}\")"
   ],
   "metadata": {
    "collapsed": false,
    "pycharm": {
     "name": "#%%\n"
    }
   }
  },
  {
   "cell_type": "markdown",
   "source": [
    "## Set up batch function"
   ],
   "metadata": {
    "collapsed": false,
    "pycharm": {
     "name": "#%% md\n"
    }
   }
  },
  {
   "cell_type": "code",
   "execution_count": 10,
   "outputs": [
    {
     "name": "stdout",
     "output_type": "stream",
     "text": [
      "x.shape=torch.Size([4, 8])\n"
     ]
    }
   ],
   "source": [
    "batch_ixs = torch.randint(len(data) - block_size, (4,))\n",
    "x = torch.stack([data[i:i+block_size] for i in batch_ixs])\n",
    "print(f\"{x.shape=}\")"
   ],
   "metadata": {
    "collapsed": false,
    "pycharm": {
     "name": "#%%\n"
    }
   }
  },
  {
   "cell_type": "code",
   "execution_count": 11,
   "outputs": [
    {
     "name": "stdout",
     "output_type": "stream",
     "text": [
      "# INPUT BATCH [X]\n",
      "torch.Size([4, 8])\n",
      "tensor([[ 1, 77, 65, 62,  1, 73, 72, 68],\n",
      "        [63, 62,  1, 58, 71, 61,  1, 37],\n",
      "        [83,  1, 60, 58, 75,  1, 71, 72],\n",
      "        [ 1, 37,  1, 61, 72, 71,  7, 77]])\n",
      "# TARGET BATCH [Y]\n",
      "torch.Size([4, 8])\n",
      "tensor([[77, 65, 62,  1, 73, 72, 68, 62],\n",
      "        [62,  1, 58, 71, 61,  1, 37,  7],\n",
      "        [ 1, 60, 58, 75,  1, 71, 72, 77],\n",
      "        [37,  1, 61, 72, 71,  7, 77,  1]])\n",
      "[1] -> 77\n",
      "[1, 77] -> 65\n",
      "[1, 77, 65] -> 62\n",
      "[1, 77, 65, 62] -> 1\n",
      "[1, 77, 65, 62, 1] -> 73\n",
      "[1, 77, 65, 62, 1, 73] -> 72\n",
      "[1, 77, 65, 62, 1, 73, 72] -> 68\n",
      "[1, 77, 65, 62, 1, 73, 72, 68] -> 62\n",
      "[63] -> 62\n",
      "[63, 62] -> 1\n",
      "[63, 62, 1] -> 58\n",
      "[63, 62, 1, 58] -> 71\n",
      "[63, 62, 1, 58, 71] -> 61\n",
      "[63, 62, 1, 58, 71, 61] -> 1\n",
      "[63, 62, 1, 58, 71, 61, 1] -> 37\n",
      "[63, 62, 1, 58, 71, 61, 1, 37] -> 7\n",
      "[83] -> 1\n",
      "[83, 1] -> 60\n",
      "[83, 1, 60] -> 58\n",
      "[83, 1, 60, 58] -> 75\n",
      "[83, 1, 60, 58, 75] -> 1\n",
      "[83, 1, 60, 58, 75, 1] -> 71\n",
      "[83, 1, 60, 58, 75, 1, 71] -> 72\n",
      "[83, 1, 60, 58, 75, 1, 71, 72] -> 77\n",
      "[1] -> 37\n",
      "[1, 37] -> 1\n",
      "[1, 37, 1] -> 61\n",
      "[1, 37, 1, 61] -> 72\n",
      "[1, 37, 1, 61, 72] -> 71\n",
      "[1, 37, 1, 61, 72, 71] -> 7\n",
      "[1, 37, 1, 61, 72, 71, 7] -> 77\n",
      "[1, 37, 1, 61, 72, 71, 7, 77] -> 1\n"
     ]
    }
   ],
   "source": [
    "# Introduce a batch dimension\n",
    "\n",
    "torch.manual_seed(11235)\n",
    "batch_size = 4 # num of independent sequences to process in each forward and backward pass of the Transformer (in parallel)\n",
    "# block_size = 8 # max context length to make predictions\n",
    "\n",
    "def get_batch(is_training =True):\n",
    "    # row length = block_size\n",
    "    # number of rows (height) = batch_size\n",
    "    # generate a small batch of data of inputs `x` and targets `y`\n",
    "    batch_data = train_data if is_training else val_data\n",
    "\n",
    "    # e.g. ix=tensor([ 76049, 234249, 934904, 560986])\n",
    "    ix = torch.randint(len(batch_data) - block_size, (batch_size,))\n",
    "\n",
    "    # add\n",
    "    x = torch.stack([batch_data[i:i+block_size] for i in ix])\n",
    "    y = torch.stack([batch_data[i+1:i+block_size+1] for i in ix])\n",
    "    return x,y\n",
    "\n",
    "xb, yb = get_batch(is_training=True)\n",
    "print('# INPUT BATCH [X]')\n",
    "print(xb.shape)\n",
    "print(xb)\n",
    "print('# TARGET BATCH [Y]')\n",
    "print(yb.shape)\n",
    "print(yb)\n",
    "\n",
    "for b in range(batch_size): # batch dim\n",
    "    for t in range(block_size): # time dim\n",
    "        context = xb[b, :t+1]\n",
    "        target = yb[b, t]\n",
    "        print(f\"{context.tolist()} -> {target}\")"
   ],
   "metadata": {
    "collapsed": false,
    "pycharm": {
     "name": "#%%\n"
    }
   }
  },
  {
   "cell_type": "markdown",
   "source": [
    "## Define the model"
   ],
   "metadata": {
    "collapsed": false,
    "pycharm": {
     "name": "#%% md\n"
    }
   }
  },
  {
   "cell_type": "markdown",
   "source": [
    "Scaled dot-product attention (dry run)"
   ],
   "metadata": {
    "collapsed": false,
    "pycharm": {
     "name": "#%% md\n"
    }
   }
  },
  {
   "cell_type": "code",
   "execution_count": 12,
   "outputs": [
    {
     "data": {
      "text/plain": "tensor([[7.7420e-04, 0.0000e+00, 0.0000e+00, 0.0000e+00, 0.0000e+00, 0.0000e+00,\n         0.0000e+00, 0.0000e+00],\n        [2.7211e-02, 2.4316e-02, 0.0000e+00, 0.0000e+00, 0.0000e+00, 0.0000e+00,\n         0.0000e+00, 0.0000e+00],\n        [8.8043e-02, 3.6264e-01, 2.4946e-02, 0.0000e+00, 0.0000e+00, 0.0000e+00,\n         0.0000e+00, 0.0000e+00],\n        [5.4863e-03, 1.7979e-02, 3.2797e-01, 7.7253e-02, 0.0000e+00, 0.0000e+00,\n         0.0000e+00, 0.0000e+00],\n        [4.1100e-03, 3.4731e-01, 1.1151e-01, 4.4456e-01, 9.4412e-01, 0.0000e+00,\n         0.0000e+00, 0.0000e+00],\n        [1.7039e-03, 6.3276e-02, 3.7852e-01, 5.1925e-02, 2.7792e-02, 1.0309e-01,\n         0.0000e+00, 0.0000e+00],\n        [2.8035e-02, 1.4495e-01, 1.4505e-01, 3.2157e-01, 7.6504e-03, 7.3760e-01,\n         9.3291e-01, 0.0000e+00],\n        [8.4464e-01, 3.9537e-02, 1.2001e-02, 1.0469e-01, 2.0437e-02, 1.5931e-01,\n         6.7092e-02, 1.0000e+00]], grad_fn=<SelectBackward0>)"
     },
     "execution_count": 12,
     "metadata": {},
     "output_type": "execute_result"
    }
   ],
   "source": [
    "B, T, C = 4, 8, 32\n",
    "x = torch.randn(B, T, C)\n",
    "\n",
    "# single head self-attention\n",
    "head_size = 16 # number of features\n",
    "query = nn.Linear(C, head_size, bias=False)\n",
    "key = nn.Linear(C, head_size, bias=False)\n",
    "value = nn.Linear(C, head_size, bias=False)\n",
    "\n",
    "# Every node (token) emits two vectors:\n",
    "# 1. query (Q) - what a token is looking for\n",
    "# 2. key (k) - what a token is\n",
    "q = query(x) # (B, T, 16)\n",
    "k = key(x)   # (B, T, 16)\n",
    "\n",
    "# Transpose the last two dimensions of k -> (B, 16, T)\n",
    "# (B, T, 16) @ (B, 16, T) -> (B, T, T)\n",
    "ws = q @ k.transpose(-2, -1)\n",
    "\n",
    "# only pay attention to preceding tokens\n",
    "tril = torch.tril(torch.ones(T, T))\n",
    "# ws = torch.zeros(T, T)\n",
    "ws = ws.masked_fill(tril == 0, float('-inf'))\n",
    "# normalise\n",
    "ws = F.softmax(ws, dim=1)\n",
    "\n",
    "# the content that a token has to offer\n",
    "v = value(x)\n",
    "\n",
    "# weighted aggregation of past tokens\n",
    "out = ws @ v\n",
    "\n",
    "# attention weights of tokens in first sequence\n",
    "ws[0]"
   ],
   "metadata": {
    "collapsed": false,
    "pycharm": {
     "name": "#%%\n"
    }
   }
  },
  {
   "cell_type": "markdown",
   "source": [
    "Single head of self attention"
   ],
   "metadata": {
    "collapsed": false,
    "pycharm": {
     "name": "#%% md\n"
    }
   }
  },
  {
   "cell_type": "code",
   "execution_count": 13,
   "outputs": [],
   "source": [
    "class Head(nn.Module):\n",
    "    \"\"\"A head of self attention\"\"\"\n",
    "\n",
    "    def __init__(self, head_size):\n",
    "        super().__init__()\n",
    "        # Initialise Q, K, V\n",
    "        self.query = nn.Linear(n_embd, head_size, bias=False)\n",
    "        self.key = nn.Linear(n_embd, head_size, bias=False)\n",
    "        self.value = nn.Linear(n_embd, head_size, bias=False)\n",
    "\n",
    "        # the mask doesn't get updated during backpropagation (optimizer step)\n",
    "        # but is part of the state of the model, so saved and loaded with the model\n",
    "        self.register_buffer('tril', torch.tril(torch.ones(block_size, block_size)))\n",
    "\n",
    "    def forward(self, x):\n",
    "        B, T, C = x.shape\n",
    "        q = self.query(x) # (B, T, C)\n",
    "        k = self.key(x)   # (B, T, C)\n",
    "\n",
    "        # compute attention scores (\"affinities\")\n",
    "        ws = q @ k.transpose(-2, -1) # (B, T, C) @ (B, C, T) -> (B, T, T)\n",
    "        ws = ws.masked_fill(self.tril[:T, :T] == 0, float('-inf')) # (B, T, T)\n",
    "\n",
    "        # softmax the logits\n",
    "        ws = F.softmax(ws, dim=-1)\n",
    "\n",
    "        v = self.value(x) # (B, T, C)\n",
    "        out = ws @ v # (B, T, T) @ (B, T, C) -> (B, T, C)\n",
    "        return out\n"
   ],
   "metadata": {
    "collapsed": false,
    "pycharm": {
     "name": "#%%\n"
    }
   }
  },
  {
   "cell_type": "markdown",
   "source": [
    "Multi-head self-attention"
   ],
   "metadata": {
    "collapsed": false,
    "pycharm": {
     "name": "#%% md\n"
    }
   }
  },
  {
   "cell_type": "code",
   "execution_count": 14,
   "outputs": [],
   "source": [
    "class MultiHead(nn.Module):\n",
    "    \"\"\"\n",
    "    Multiple heads of self-attention concatenated.\n",
    "    Parallelized over the channel (C) dimension.\n",
    "    \"\"\"\n",
    "\n",
    "    def __init__(self, num_heads: int, head_size: int):\n",
    "        super().__init__()\n",
    "\n",
    "        # initialise multiple self-attention heads each with `head_size` dimension\n",
    "        self.heads = nn.ModuleList([Head(head_size) for _ in range(num_heads)])\n",
    "\n",
    "        # projection layer to transform concatenated outputs of all heads\n",
    "        # back to the original embedding dimension\n",
    "        self.proj = nn.Linear(n_embd, n_embd)\n",
    "\n",
    "    def forward(self, x):\n",
    "        # concat outputs of each attention head\n",
    "        out = torch.cat([h(x) for h in self.heads], dim=-1)\n",
    "\n",
    "        # project outputs to input (embed) dimensions\n",
    "        out = self.proj(out)\n",
    "        return out"
   ],
   "metadata": {
    "collapsed": false,
    "pycharm": {
     "name": "#%%\n"
    }
   }
  },
  {
   "cell_type": "markdown",
   "source": [
    "Feed forward"
   ],
   "metadata": {
    "collapsed": false,
    "pycharm": {
     "name": "#%% md\n"
    }
   }
  },
  {
   "cell_type": "code",
   "execution_count": 15,
   "outputs": [],
   "source": [
    "class FeedForward(nn.Module):\n",
    "    \"\"\"\n",
    "    Simple feed-forward NN with a single hidden layer\n",
    "    [Linear -> ReLU]\n",
    "    \"\"\"\n",
    "\n",
    "    def __init__(self, n_embd: int):\n",
    "        super().__init__()\n",
    "        # scaling inner layer channel size by 4 is a hyperparameter recommendation in\n",
    "        # 3.3 Position-wise feed forward networks from Attention is All You Need\n",
    "        self.net = nn.Sequential(\n",
    "            nn.Linear(n_embd, 4 * n_embd),\n",
    "            nn.ReLU(),\n",
    "            nn.Linear(4 * n_embd, n_embd), # projection\n",
    "        )\n",
    "\n",
    "    def forward(self, x: torch.Tensor) -> torch.Tensor:\n",
    "        return self.net(x)\n"
   ],
   "metadata": {
    "collapsed": false,
    "pycharm": {
     "name": "#%%\n"
    }
   }
  },
  {
   "cell_type": "markdown",
   "source": [
    "Transformer block"
   ],
   "metadata": {
    "collapsed": false,
    "pycharm": {
     "name": "#%% md\n"
    }
   }
  },
  {
   "cell_type": "code",
   "execution_count": 16,
   "outputs": [],
   "source": [
    "class TransformerBlock(nn.Module):\n",
    "    \"\"\"\n",
    "    Carries out self attention (communication) and feed forward (computation) on input embeddings\n",
    "    \"\"\"\n",
    "\n",
    "    def __init__(self, n_embd: int, n_heads: int):\n",
    "        \"\"\"\n",
    "        :param n_embd: embedding dimension\n",
    "        :param n_heads: number of heads\n",
    "        \"\"\"\n",
    "        super().__init__()\n",
    "\n",
    "        # self-attention heads\n",
    "        # the same 32 embedding dimensions are split across 4 heads\n",
    "        head_size: int = n_embd // n_heads\n",
    "        self.sa = MultiHead(n_heads, head_size)\n",
    "\n",
    "        # feed forward layer\n",
    "        self.ffwd = FeedForward(n_embd)\n",
    "\n",
    "        # both LayerNorm layers\n",
    "        self.ln1 = nn.LayerNorm(n_embd)\n",
    "        self.ln2 = nn.LayerNorm(n_embd)\n",
    "\n",
    "    def forward(self, x):\n",
    "        # apply self attention to normalised plus original x for residual connection\n",
    "        # using pre-norm formulation here (modern deviation from Attention is All You Need)\n",
    "        norm_x = self.ln1(x)\n",
    "        x = x + self.sa(norm_x)\n",
    "\n",
    "        # apply feed forward plus original x for residual connection\n",
    "        norm_x = self.ln2(x)\n",
    "        x = x + self.ffwd(norm_x)\n",
    "        return x\n"
   ],
   "metadata": {
    "collapsed": false,
    "pycharm": {
     "name": "#%%\n"
    }
   }
  },
  {
   "cell_type": "markdown",
   "source": [
    "Model"
   ],
   "metadata": {
    "collapsed": false,
    "pycharm": {
     "name": "#%% md\n"
    }
   }
  },
  {
   "cell_type": "code",
   "execution_count": 17,
   "outputs": [
    {
     "name": "stdout",
     "output_type": "stream",
     "text": [
      "logits: torch.Size([32, 104])\n",
      "5.000789165496826\n",
      "\n",
      "FZOxgMDHUYZUmU]_7mUëUU+“gp/‘U+ó',‘ nX3g\",:1U}U:$‘mX‘N(N{!v”mzDZUUUA\"mM/ xUDmUlEI:ód?NXsQvm:e‘\"UN+ +N\n"
     ]
    }
   ],
   "source": [
    "# number of embedding dimensions\n",
    "n_embd = 32\n",
    "\n",
    "class DecoderLanguageModel(nn.Module):\n",
    "\n",
    "    def __init__(self):\n",
    "        super().__init__()\n",
    "        self.token_embedding_table = nn.Embedding(vocab_size, n_embd)\n",
    "        self.position_embedding_table = nn.Embedding(block_size, n_embd)\n",
    "        self.blocks = nn.Sequential(*(TransformerBlock(n_embd, n_heads=n_heads) for _ in range (n_block_layers)))\n",
    "        self.ln_f = nn.LayerNorm(n_embd), # last layer normalisation\n",
    "\n",
    "        # language-modelling head\n",
    "        # maps output of transformer block (self-attention and feed-forward layers) to the vocabulary\n",
    "        self.lm_head = nn.Linear(n_embd, vocab_size)\n",
    "\n",
    "    def forward(self, idxs: torch.Tensor, targets=None):\n",
    "\n",
    "        B, T = idxs.shape\n",
    "\n",
    "        # Sum text and position information\n",
    "        tok_emb = self.token_embedding_table(idxs)                              # (B, T, C)\n",
    "        pos_emb = self.position_embedding_table(torch.arange(T, device=device)) # (T, C)\n",
    "\n",
    "        # sum token embeddings with broadcast position embeddings, right-aligned as (1, T, C)\n",
    "        x = tok_emb + pos_emb\n",
    "\n",
    "        x = self.blocks(x)\n",
    "\n",
    "        logits = self.lm_head(x) # (B, T, vocab_size)\n",
    "\n",
    "        if targets is None:\n",
    "            # inference mode -> we don't need to calculate loss\n",
    "            loss = None\n",
    "        else:\n",
    "            # training mode -> we need to calculate loss\n",
    "\n",
    "            # negative log likelihood loss\n",
    "            # pytorch wants B x T x C\n",
    "            B, T, C = logits.shape\n",
    "            # print(f\"B, T, C = {logits.shape=}\")\n",
    "            logits = logits.view(B * T, C)\n",
    "            targets = targets.view(B * T) # or .view(-1)\n",
    "\n",
    "            # Compute loss between logit and target tensors\n",
    "            loss = F.cross_entropy(logits, targets)\n",
    "\n",
    "        return logits, loss\n",
    "\n",
    "    def generate(self, idxs, max_new_tokens):\n",
    "        \"\"\"\n",
    "        Inference.\n",
    "        Turns a (B, T) array of indices into (B, T+1), (B, T+2)... (B, T+N)\n",
    "        :param idx: a (B, T) array of indices in the current context\n",
    "        :param max_new_tokens:\n",
    "        :return: a (B, T+max_new_tokens) array of indices\n",
    "        \"\"\"\n",
    "        for _ in range(max_new_tokens):\n",
    "            # crop tokens that fit into context\n",
    "            cropped_idxs = idxs[:, -block_size:]\n",
    "            # get predictions\n",
    "            logits, loss = self(cropped_idxs)\n",
    "            # take the logits for the last token in the current sequence\n",
    "            logits = logits[:, -1, :] # becomes (B, C), taking the last in the T dimension\n",
    "            # apply softmax to get probabilities\n",
    "            probs = F.softmax(logits, dim=-1) # (B, C)\n",
    "            # sample from distribution\n",
    "            next_ix = torch.multinomial(probs, num_samples=1) # (B, 1)\n",
    "            # append sampled index to the running sequence\n",
    "            idxs = torch.cat((idxs, next_ix), dim=1) # (B, T+1)\n",
    "        return idxs\n",
    "\n",
    "\n",
    "def test_model():\n",
    "    m = DecoderLanguageModel()\n",
    "    logits, loss = m(xb, yb)\n",
    "    print(f\"logits: {logits.shape}\")\n",
    "    print(loss.item())\n",
    "\n",
    "    context = torch.zeros([1, 1], dtype=torch.long, device=device)\n",
    "    print(decode(m.generate(context, max_new_tokens=100)[0].tolist()))\n",
    "\n",
    "\n",
    "test_model()"
   ],
   "metadata": {
    "collapsed": false,
    "pycharm": {
     "name": "#%%\n"
    }
   }
  },
  {
   "cell_type": "markdown",
   "source": [
    "## Train the model"
   ],
   "metadata": {
    "collapsed": false,
    "pycharm": {
     "name": "#%% md\n"
    }
   }
  },
  {
   "cell_type": "markdown",
   "source": [
    "Prepare to estimate loss"
   ],
   "metadata": {
    "collapsed": false,
    "pycharm": {
     "name": "#%% md\n"
    }
   }
  },
  {
   "cell_type": "code",
   "execution_count": 18,
   "outputs": [],
   "source": [
    "@torch.no_grad()\n",
    "def estimate_loss():\n",
    "    out = {}\n",
    "    m.eval()\n",
    "    for split in ['train', 'val']:\n",
    "        losses = torch.zeros(eval_iters)\n",
    "        for i in range(eval_iters):\n",
    "            X, Y = get_batch(is_training=split == 'train')\n",
    "            logits, loss = m(X, Y)\n",
    "            losses[i] = loss.item()\n",
    "        out[split] = losses.mean()\n",
    "    m.train()\n",
    "    return out"
   ],
   "metadata": {
    "collapsed": false,
    "pycharm": {
     "name": "#%%\n"
    }
   }
  },
  {
   "cell_type": "markdown",
   "source": [
    "Define the training"
   ],
   "metadata": {
    "collapsed": false,
    "pycharm": {
     "name": "#%% md\n"
    }
   }
  },
  {
   "cell_type": "code",
   "execution_count": 19,
   "outputs": [],
   "source": [
    "def train(model: nn.Module, train_steps=10_000):\n",
    "    loss_values = []\n",
    "    loss = None\n",
    "    for step in range(train_steps):\n",
    "\n",
    "        # Sample a batch of data for training. `xb` contains the input sequences and `yb` contains the target sequences.\n",
    "        xb, yb = get_batch(is_training=True)\n",
    "\n",
    "        # Forward pass: Compute predictions (logits) and loss for this batch using the model.\n",
    "        # loss= L(yb, logits) where L is loss function (cross-entropy)\n",
    "        logits, loss = model(xb, yb)\n",
    "\n",
    "        # Before computing the gradients, we need to zero out the gradients from the previous step.\n",
    "        # This is because PyTorch accumulates gradients on subsequent backward passes.\n",
    "        # Set gradients of all params to zero: ∇params = 0\n",
    "        optimizer.zero_grad(set_to_none=True)\n",
    "\n",
    "        # Backward pass: Compute the gradients of the loss with respect to the model's parameters.\n",
    "        # ∇params = d(loss)/d(params)\n",
    "        loss.backward()\n",
    "\n",
    "        # Update the model's parameters using the computed gradients.\n",
    "        # params' = params - learning_rate * ∇params\n",
    "        optimizer.step()\n",
    "\n",
    "        # store the detached loss value for this step\n",
    "        loss_values.append(loss.detach().item())\n",
    "\n",
    "        # print loss at intervals\n",
    "        if step % 500 == 0:\n",
    "            estimated_loss = estimate_loss()\n",
    "            print(f\"step {step} – training loss: {estimated_loss['train']} | val loss: {estimated_loss['val']}\")\n",
    "\n",
    "    # print loss for the last batch\n",
    "    # not necessarily the average or total loss for all batches.\n",
    "    if loss is not None:\n",
    "        print(f\"loss after {train_steps} training steps: {loss.detach().item()}\")\n",
    "    return loss_values"
   ],
   "metadata": {
    "collapsed": false,
    "pycharm": {
     "name": "#%%\n"
    }
   }
  },
  {
   "cell_type": "code",
   "execution_count": 20,
   "outputs": [
    {
     "name": "stdout",
     "output_type": "stream",
     "text": [
      "step 0 – training loss: 4.783102035522461 | val loss: 4.8085503578186035\n",
      "step 500 – training loss: 2.5440423488616943 | val loss: 2.6318483352661133\n",
      "step 1000 – training loss: 2.4539785385131836 | val loss: 2.491502046585083\n",
      "step 1500 – training loss: 2.356637954711914 | val loss: 2.396033525466919\n",
      "step 2000 – training loss: 2.2914345264434814 | val loss: 2.3673088550567627\n",
      "step 2500 – training loss: 2.185403823852539 | val loss: 2.258181571960449\n",
      "step 3000 – training loss: 2.173140048980713 | val loss: 2.132516384124756\n",
      "step 3500 – training loss: 2.151616096496582 | val loss: 2.1670713424682617\n",
      "step 4000 – training loss: 2.1383862495422363 | val loss: 2.1901040077209473\n",
      "step 4500 – training loss: 2.0981900691986084 | val loss: 2.1201560497283936\n",
      "step 5000 – training loss: 2.0414113998413086 | val loss: 2.132655143737793\n",
      "step 5500 – training loss: 2.057985305786133 | val loss: 2.1312267780303955\n",
      "step 6000 – training loss: 2.029926061630249 | val loss: 2.089445114135742\n",
      "step 6500 – training loss: 2.0475075244903564 | val loss: 2.1130459308624268\n",
      "step 7000 – training loss: 2.0151827335357666 | val loss: 2.072103977203369\n",
      "step 7500 – training loss: 2.0429563522338867 | val loss: 2.070387363433838\n",
      "step 8000 – training loss: 2.0071098804473877 | val loss: 2.0650055408477783\n",
      "step 8500 – training loss: 2.020780086517334 | val loss: 2.026151418685913\n",
      "step 9000 – training loss: 1.9380841255187988 | val loss: 2.052424430847168\n",
      "step 9500 – training loss: 1.9476819038391113 | val loss: 2.0658552646636963\n",
      "loss after 10000 training steps: 1.565023422241211\n"
     ]
    }
   ],
   "source": [
    "model = DecoderLanguageModel()\n",
    "m = model.to(device)\n",
    "\n",
    "# Initialize the optimiser with the parameters of the model `m` and a learning rate of 1e-3.\n",
    "# AdamW is a variant of the Adam optimiser that has weight decay regularization.\n",
    "optimizer = torch.optim.AdamW(m.parameters(), lr=1e-3) # learning rate of 1e-4 for bigger NNs\n",
    "\n",
    "train_steps = 10_000\n",
    "loss_values = train(model=m, train_steps=train_steps)"
   ],
   "metadata": {
    "collapsed": false,
    "pycharm": {
     "name": "#%%\n"
    }
   }
  },
  {
   "cell_type": "markdown",
   "source": [
    "### Analyse loss"
   ],
   "metadata": {
    "collapsed": false,
    "pycharm": {
     "name": "#%% md\n"
    }
   }
  },
  {
   "cell_type": "code",
   "execution_count": 21,
   "outputs": [
    {
     "data": {
      "text/plain": "<Figure size 1000x500 with 1 Axes>",
      "image/png": "[encoded data removed]"
     },
     "metadata": {},
     "output_type": "display_data"
    }
   ],
   "source": [
    "import matplotlib.pyplot as plt\n",
    "\n",
    "# plot loss values\n",
    "plt.figure(figsize=(10, 5))\n",
    "plt.plot(loss_values, label=f\"{train_steps} steps\")\n",
    "plt.xlabel('training step')\n",
    "plt.ylabel('loss')\n",
    "plt.title('loss vs training steps')\n",
    "plt.legend()\n",
    "plt.show()"
   ],
   "metadata": {
    "collapsed": false,
    "pycharm": {
     "name": "#%%\n"
    }
   }
  },
  {
   "cell_type": "markdown",
   "source": [
    "## Predict"
   ],
   "metadata": {
    "collapsed": false,
    "pycharm": {
     "name": "#%% md\n"
    }
   }
  },
  {
   "cell_type": "code",
   "execution_count": 22,
   "outputs": [
    {
     "name": "stdout",
     "output_type": "stream",
     "text": [
      "\n",
      "Sorn if'm to din't's upphin's se\n",
      "Seor that\n",
      "(Bomeny\n",
      "Br prandy, there my can mose me to do I I'm ot's like 'thou it lockio hapice I aftryn\n",
      "\n",
      "[Chorus: (Lovey\n",
      "It's me sed, ary\n",
      "You\n",
      "Hoven, you, you\n",
      "Whink of tould watge we was topplortion from\n",
      "Amy now with re mogetord a live\n",
      " fuck nothin' cuctrp iniow\n",
      "Yight\n"
     ]
    }
   ],
   "source": [
    "idx = torch.zeros([1, 1], dtype=torch.long)\n",
    "print(decode(m.generate(idx, max_new_tokens=300)[0].tolist()))"
   ],
   "metadata": {
    "collapsed": false,
    "pycharm": {
     "name": "#%%\n"
    }
   }
  },
  {
   "cell_type": "markdown",
   "source": [
    "## Appendix"
   ],
   "metadata": {
    "collapsed": false,
    "pycharm": {
     "name": "#%% md\n"
    }
   }
  },
  {
   "cell_type": "markdown",
   "source": [
    "Model parameters"
   ],
   "metadata": {
    "collapsed": false,
    "pycharm": {
     "name": "#%% md\n"
    }
   }
  },
  {
   "cell_type": "code",
   "execution_count": 26,
   "outputs": [],
   "source": [
    "# for param in m.parameters():\n",
    "#     print(f\"{type(param)=} - {param=}: {param.size()=}\")"
   ],
   "metadata": {
    "collapsed": false,
    "pycharm": {
     "name": "#%%\n"
    }
   }
  },
  {
   "cell_type": "markdown",
   "source": [
    "Expected loss (without training)"
   ],
   "metadata": {
    "collapsed": false,
    "pycharm": {
     "name": "#%% md\n"
    }
   }
  },
  {
   "cell_type": "code",
   "execution_count": 25,
   "outputs": [
    {
     "name": "stdout",
     "output_type": "stream",
     "text": [
      "4.6443908991413725\n"
     ]
    }
   ],
   "source": [
    "import math\n",
    "print(f\"{-math.log(1/len(chars))}\")"
   ],
   "metadata": {
    "collapsed": false,
    "pycharm": {
     "name": "#%%\n"
    }
   }
  }
 ],
 "metadata": {
  "kernelspec": {
   "display_name": "Python 3",
   "language": "python",
   "name": "python3"
  },
  "language_info": {
   "codemirror_mode": {
    "name": "ipython",
    "version": 2
   },
   "file_extension": ".py",
   "mimetype": "text/x-python",
   "name": "python",
   "nbconvert_exporter": "python",
   "pygments_lexer": "ipython2",
   "version": "2.7.6"
  }
 },
 "nbformat": 4,
 "nbformat_minor": 0
}