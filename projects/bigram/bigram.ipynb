{
 "cells": [
  {
   "cell_type": "markdown",
   "metadata": {
    "collapsed": false,
    "jupyter": {
     "outputs_hidden": false
    },
    "pycharm": {
     "name": "#%% md\n"
    }
   },
   "source": [
    "# Simple bigram model"
   ]
  },
  {
   "cell_type": "markdown",
   "metadata": {
    "collapsed": false,
    "jupyter": {
     "outputs_hidden": false
    },
    "pycharm": {
     "name": "#%% md\n"
    }
   },
   "source": [
    "The bigram implementation from Andrej Karpahty's GPT from scratch [lecture](https://www.youtube.com/watch?v=kCc8FmEb1nY).\n",
    "\n",
    "Re-written for learning purposes.\n",
    "\n",
    "Also, Drake lyrics instead of Shakespeare so we can accelerate the birth of Drake AI."
   ]
  },
  {
   "cell_type": "markdown",
   "metadata": {
    "collapsed": false,
    "jupyter": {
     "outputs_hidden": false
    },
    "pycharm": {
     "name": "#%% md\n"
    }
   },
   "source": [
    "## Prepare data"
   ]
  },
  {
   "cell_type": "code",
   "execution_count": 2,
   "metadata": {
    "collapsed": false,
    "jupyter": {
     "outputs_hidden": false
    },
    "pycharm": {
     "is_executing": true,
     "name": "#%%\n"
    }
   },
   "outputs": [
    {
     "name": "stdout",
     "output_type": "stream",
     "text": [
      "770,711\n"
     ]
    }
   ],
   "source": [
    "# Read Drake lyrics into memory\n",
    "with open('../../data/drake_lyrics.txt', 'r', encoding='utf-8') as f:\n",
    "    text = f.read()\n",
    "print(f\"{len(text):,}\")"
   ]
  },
  {
   "cell_type": "code",
   "execution_count": 3,
   "metadata": {
    "collapsed": false,
    "jupyter": {
     "outputs_hidden": false
    },
    "pycharm": {
     "name": "#%%\n"
    }
   },
   "outputs": [
    {
     "name": "stdout",
     "output_type": "stream",
     "text": [
      "\"[Verse]\n",
      "Put my feelings on ice\n",
      "Always been a gem\n",
      "Certified lover boy, somehow still heartless\n",
      "Heart is only gettin' colder\"\n",
      "\"[Verse]\n",
      "Hands are tied\n",
      "Someone's in my ear from the other side\n",
      "Tellin' me that I should pay you no mind\n",
      "Wanted you to not be with me all night\n",
      "Wanted you to not stay with me all night\n",
      "I know, you know, who that person is to me\n",
      "Doesn't really change things\n",
      "\n",
      "[Chorus]\n",
      "I know you're scared of dating, falling for me\n",
      "Shorty, surely you know me\n",
      "Right here for you always\n",
      "You know, I don't ever change\n",
      "Right here for you always\n",
      "You know I don't ever change\n",
      "Right here for you\n",
      "\n",
      "[Bridge]\n",
      "In mind you make me want to do things, love you\n",
      "Like I'm supposed to\n",
      "You make me want to love you\n",
      "Like I'm supposed to\n",
      "You make me want to love you\n",
      "Like I'm supposed to, remind you\n",
      "Ayy\n",
      "\n",
      "[Chorus]\n",
      "I know you're scared of dating, falling for me\n",
      "Shorty, by now you know me\n",
      "Right here for you always\n",
      "You know, I don't ever change\n",
      "Right here for you always\n",
      "You know I don't ever change\n",
      "Right here for\n"
     ]
    }
   ],
   "source": [
    "# Preview text\n",
    "print(text[:1000])"
   ]
  },
  {
   "cell_type": "markdown",
   "metadata": {
    "collapsed": false,
    "jupyter": {
     "outputs_hidden": false
    },
    "pycharm": {
     "name": "#%% md\n"
    }
   },
   "source": [
    "## Create character vocabulary and embeddings"
   ]
  },
  {
   "cell_type": "code",
   "execution_count": 4,
   "metadata": {
    "collapsed": false,
    "jupyter": {
     "outputs_hidden": false
    },
    "pycharm": {
     "name": "#%%\n"
    }
   },
   "outputs": [
    {
     "name": "stdout",
     "output_type": "stream",
     "text": [
      "\n",
      " !\"$%&'()*+,-./0123456789:;?ABCDEFGHIJKLMNOPQRSTUVWXYZ[]_abcdefghijklmnopqrstuvwxyz{|}àáèéëñóú –—‘’“”… \n",
      "104\n"
     ]
    }
   ],
   "source": [
    "chars = sorted(list(set(text)))\n",
    "vocab_size = len(chars)\n",
    "print(''.join(chars))\n",
    "print(vocab_size)"
   ]
  },
  {
   "cell_type": "markdown",
   "metadata": {
    "collapsed": false,
    "jupyter": {
     "outputs_hidden": false
    },
    "pycharm": {
     "name": "#%% md\n"
    }
   },
   "source": [
    "## Set up token encoder and decoder"
   ]
  },
  {
   "cell_type": "code",
   "execution_count": 5,
   "metadata": {
    "collapsed": false,
    "jupyter": {
     "outputs_hidden": false
    },
    "pycharm": {
     "name": "#%%\n"
    }
   },
   "outputs": [
    {
     "name": "stdout",
     "output_type": "stream",
     "text": [
      "[65, 62, 69, 69, 72, 1, 80, 72, 75, 69, 61]\n",
      "hello world\n"
     ]
    }
   ],
   "source": [
    "s2i = { ch:i for i,ch in enumerate(chars) }\n",
    "i2s = { i:ch for i,ch in enumerate(chars) }\n",
    "encode = lambda s: [s2i[c] for c in s]\n",
    "decode = lambda l: ''.join([i2s[i] for i in l])\n",
    "\n",
    "print(encode(\"hello world\"))\n",
    "print(decode(encode(\"hello world\")))"
   ]
  },
  {
   "cell_type": "code",
   "execution_count": 6,
   "metadata": {
    "collapsed": false,
    "jupyter": {
     "outputs_hidden": false
    },
    "pycharm": {
     "name": "#%%\n"
    }
   },
   "outputs": [
    {
     "name": "stdout",
     "output_type": "stream",
     "text": [
      "torch.Size([770711]) torch.int64\n",
      "tensor([ 3, 55, 50, 62, 75, 76, 62, 56,  0, 44, 78, 77,  1, 70, 82,  1, 63, 62,\n",
      "        62, 69, 66, 71, 64, 76,  1, 72, 71,  1, 66, 60, 62,  0, 29, 69, 80, 58,\n",
      "        82, 76,  1, 59, 62, 62, 71,  1, 58,  1, 64, 62, 70,  0, 31, 62, 75, 77,\n",
      "        66, 63, 66, 62, 61,  1, 69, 72, 79, 62, 75,  1, 59, 72, 82, 12,  1, 76,\n",
      "        72, 70, 62, 65, 72, 80,  1, 76, 77, 66, 69, 69,  1, 65, 62, 58, 75, 77,\n",
      "        69, 62, 76, 76,  0, 36, 62, 58, 75, 77,  1, 66, 76,  1, 72, 71, 69, 82,\n",
      "         1, 64, 62, 77, 77, 66, 71,  7,  1, 60, 72, 69, 61, 62, 75,  3,  0,  3,\n",
      "        55, 50, 62, 75, 76, 62, 56,  0, 36, 58, 71, 61, 76,  1, 58, 75, 62,  1,\n",
      "        77, 66, 62, 61,  0, 47, 72, 70, 62, 72, 71, 62,  7, 76,  1, 66, 71,  1,\n",
      "        70, 82,  1, 62, 58, 75,  1, 63, 75, 72, 70,  1, 77, 65, 62,  1, 72, 77,\n",
      "        65, 62, 75,  1, 76, 66, 61, 62,  0, 48, 62, 69, 69, 66, 71,  7,  1, 70,\n",
      "        62,  1, 77, 65, 58, 77,  1, 37,  1, 76, 65, 72, 78, 69, 61,  1, 73, 58,\n",
      "        82,  1, 82, 72, 78,  1, 71, 72,  1, 70, 66, 71, 61,  0, 51, 58, 71, 77,\n",
      "        62, 61,  1, 82, 72, 78,  1, 77, 72,  1, 71, 72, 77,  1, 59, 62,  1, 80,\n",
      "        66, 77, 65,  1, 70, 62,  1, 58, 69, 69,  1, 71, 66, 64, 65, 77,  0, 51,\n",
      "        58, 71, 77, 62, 61,  1, 82, 72, 78,  1, 77, 72,  1, 71, 72, 77,  1, 76,\n",
      "        77, 58, 82,  1, 80, 66, 77, 65,  1, 70, 62,  1, 58, 69, 69,  1, 71, 66,\n",
      "        64, 65, 77,  0, 37,  1, 68, 71, 72, 80, 12,  1, 82, 72, 78,  1, 68, 71,\n",
      "        72, 80, 12,  1, 80, 65, 72,  1, 77, 65, 58, 77,  1, 73, 62, 75, 76, 72,\n",
      "        71,  1, 66, 76,  1, 77, 72,  1, 70, 62,  0, 32, 72, 62, 76, 71,  7, 77,\n",
      "         1, 75, 62, 58, 69, 69, 82,  1, 60, 65, 58, 71, 64, 62,  1, 77, 65, 66,\n",
      "        71, 64, 76,  0,  0, 55, 31, 65, 72, 75, 78, 76, 56,  0, 37,  1, 68, 71,\n",
      "        72, 80,  1, 82, 72, 78,  7, 75, 62,  1, 76, 60, 58, 75, 62, 61,  1, 72,\n",
      "        63,  1, 61, 58, 77, 66, 71, 64, 12,  1, 63, 58, 69, 69, 66, 71, 64,  1,\n",
      "        63, 72, 75,  1, 70, 62,  0, 47, 65, 72, 75, 77, 82, 12,  1, 76, 78, 75,\n",
      "        62, 69, 82,  1, 82, 72, 78,  1, 68, 71, 72, 80,  1, 70, 62,  0, 46, 66,\n",
      "        64, 65, 77,  1, 65, 62, 75, 62,  1, 63, 72, 75,  1, 82, 72, 78,  1, 58,\n",
      "        69, 80, 58, 82, 76,  0, 53, 72, 78,  1, 68, 71, 72, 80, 12,  1, 37,  1,\n",
      "        61, 72, 71,  7, 77,  1, 62, 79, 62, 75,  1, 60, 65, 58, 71, 64, 62,  0,\n",
      "        46, 66, 64, 65, 77,  1, 65, 62, 75, 62,  1, 63, 72, 75,  1, 82, 72, 78,\n",
      "         1, 58, 69, 80, 58, 82, 76,  0, 53, 72, 78,  1, 68, 71, 72, 80,  1, 37,\n",
      "         1, 61, 72, 71,  7, 77,  1, 62, 79, 62, 75,  1, 60, 65, 58, 71, 64, 62,\n",
      "         0, 46, 66, 64, 65, 77,  1, 65, 62, 75, 62,  1, 63, 72, 75,  1, 82, 72,\n",
      "        78,  0,  0, 55, 30, 75, 66, 61, 64, 62, 56,  0, 37, 71,  1, 70, 66, 71,\n",
      "        61,  1, 82, 72, 78,  1, 70, 58, 68, 62,  1, 70, 62,  1, 80, 58, 71, 77,\n",
      "         1, 77, 72,  1, 61, 72,  1, 77, 65, 66, 71, 64, 76, 12,  1, 69, 72, 79,\n",
      "        62,  1, 82, 72, 78,  0, 40, 66, 68, 62,  1, 37,  7, 70,  1, 76, 78, 73,\n",
      "        73, 72, 76, 62, 61,  1, 77, 72,  0, 53, 72, 78,  1, 70, 58, 68, 62,  1,\n",
      "        70, 62,  1, 80, 58, 71, 77,  1, 77, 72,  1, 69, 72, 79, 62,  1, 82, 72,\n",
      "        78,  0, 40, 66, 68, 62,  1, 37,  7, 70,  1, 76, 78, 73, 73, 72, 76, 62,\n",
      "        61,  1, 77, 72,  0, 53, 72, 78,  1, 70, 58, 68, 62,  1, 70, 62,  1, 80,\n",
      "        58, 71, 77,  1, 77, 72,  1, 69, 72, 79, 62,  1, 82, 72, 78,  0, 40, 66,\n",
      "        68, 62,  1, 37,  7, 70,  1, 76, 78, 73, 73, 72, 76, 62, 61,  1, 77, 72,\n",
      "        12,  1, 75, 62, 70, 66, 71, 61,  1, 82, 72, 78,  0, 29, 82, 82,  0,  0,\n",
      "        55, 31, 65, 72, 75, 78, 76, 56,  0, 37,  1, 68, 71, 72, 80,  1, 82, 72,\n",
      "        78,  7, 75, 62,  1, 76, 60, 58, 75, 62, 61,  1, 72, 63,  1, 61, 58, 77,\n",
      "        66, 71, 64, 12,  1, 63, 58, 69, 69, 66, 71, 64,  1, 63, 72, 75,  1, 70,\n",
      "        62,  0, 47, 65, 72, 75, 77, 82, 12,  1, 59, 82,  1, 71, 72, 80,  1, 82,\n",
      "        72, 78,  1, 68, 71, 72, 80,  1, 70, 62,  0, 46, 66, 64, 65, 77,  1, 65,\n",
      "        62, 75, 62,  1, 63, 72, 75,  1, 82, 72, 78,  1, 58, 69, 80, 58, 82, 76,\n",
      "         0, 53, 72, 78,  1, 68, 71, 72, 80, 12,  1, 37,  1, 61, 72, 71,  7, 77,\n",
      "         1, 62, 79, 62, 75,  1, 60, 65, 58, 71, 64, 62,  0, 46, 66, 64, 65, 77,\n",
      "         1, 65, 62, 75, 62,  1, 63, 72, 75,  1, 82, 72, 78,  1, 58, 69, 80, 58,\n",
      "        82, 76,  0, 53, 72, 78,  1, 68, 71, 72, 80,  1, 37,  1, 61, 72, 71,  7,\n",
      "        77,  1, 62, 79, 62, 75,  1, 60, 65, 58, 71, 64, 62,  0, 46, 66, 64, 65,\n",
      "        77,  1, 65, 62, 75, 62,  1, 63, 72, 75])\n"
     ]
    }
   ],
   "source": [
    "# Create token stream (`data: Tensor`) from encoded text (tokens)\n",
    "import torch\n",
    "data = torch.tensor(encode(text), dtype=torch.long)\n",
    "print(data.shape, data.dtype)\n",
    "print(data[:1000])"
   ]
  },
  {
   "cell_type": "markdown",
   "metadata": {
    "collapsed": false,
    "jupyter": {
     "outputs_hidden": false
    },
    "pycharm": {
     "name": "#%% md\n"
    }
   },
   "source": [
    "## Set up hyperparameters"
   ]
  },
  {
   "cell_type": "code",
   "execution_count": 7,
   "metadata": {
    "collapsed": false,
    "jupyter": {
     "outputs_hidden": false
    },
    "pycharm": {
     "name": "#%%\n"
    }
   },
   "outputs": [],
   "source": [
    "# Hyperparameters\n",
    "\n",
    "# split the data into max context length / chunk size to predict on\n",
    "block_size = 8\n",
    "\n",
    "# num of independent sequences to process in each forward and backward pass of the Transformer (in parallel)\n",
    "batch_size = 4"
   ]
  },
  {
   "cell_type": "markdown",
   "metadata": {
    "collapsed": false,
    "jupyter": {
     "outputs_hidden": false
    },
    "pycharm": {
     "name": "#%% md\n"
    }
   },
   "source": [
    "## Prepare training data"
   ]
  },
  {
   "cell_type": "markdown",
   "metadata": {
    "collapsed": false,
    "jupyter": {
     "outputs_hidden": false
    },
    "pycharm": {
     "name": "#%% md\n"
    }
   },
   "source": [
    "Split data into training and validation set"
   ]
  },
  {
   "cell_type": "code",
   "execution_count": 8,
   "metadata": {
    "collapsed": false,
    "jupyter": {
     "outputs_hidden": false
    },
    "pycharm": {
     "name": "#%%\n"
    }
   },
   "outputs": [
    {
     "name": "stdout",
     "output_type": "stream",
     "text": [
      "693639\n",
      "77072\n"
     ]
    }
   ],
   "source": [
    "n = int(.9*len(data))\n",
    "train_data = data[:n]\n",
    "val_data = data[n:]\n",
    "print(len(train_data))\n",
    "print(len(val_data))"
   ]
  },
  {
   "cell_type": "code",
   "execution_count": 9,
   "metadata": {
    "collapsed": false,
    "jupyter": {
     "outputs_hidden": false
    },
    "pycharm": {
     "name": "#%%\n"
    }
   },
   "outputs": [
    {
     "name": "stdout",
     "output_type": "stream",
     "text": [
      "[3] -> 55\n",
      "[3, 55] -> 50\n",
      "[3, 55, 50] -> 62\n",
      "[3, 55, 50, 62] -> 75\n",
      "[3, 55, 50, 62, 75] -> 76\n",
      "[3, 55, 50, 62, 75, 76] -> 62\n",
      "[3, 55, 50, 62, 75, 76, 62] -> 56\n",
      "[3, 55, 50, 62, 75, 76, 62, 56] -> 0\n"
     ]
    }
   ],
   "source": [
    "# X is training inputs\n",
    "# Y is target outputs (labels)\n",
    "x = train_data[:block_size]\n",
    "y = train_data[1:block_size+1]\n",
    "for t in range(block_size):\n",
    "    context = x[:t+1]\n",
    "    target = y[t]\n",
    "    print(f\"{context.tolist()} -> {target}\")"
   ]
  },
  {
   "cell_type": "markdown",
   "metadata": {
    "collapsed": false,
    "jupyter": {
     "outputs_hidden": false
    },
    "pycharm": {
     "name": "#%% md\n"
    }
   },
   "source": [
    "## Set up batch function"
   ]
  },
  {
   "cell_type": "code",
   "execution_count": 10,
   "metadata": {
    "collapsed": false,
    "jupyter": {
     "outputs_hidden": false
    },
    "pycharm": {
     "name": "#%%\n"
    }
   },
   "outputs": [
    {
     "name": "stdout",
     "output_type": "stream",
     "text": [
      "x.shape=torch.Size([4, 8])\n"
     ]
    }
   ],
   "source": [
    "batch_ixs = torch.randint(len(data) - block_size, (4,))\n",
    "x = torch.stack([data[i:i+block_size] for i in batch_ixs])\n",
    "print(f\"{x.shape=}\")"
   ]
  },
  {
   "cell_type": "code",
   "execution_count": 11,
   "metadata": {
    "collapsed": false,
    "jupyter": {
     "outputs_hidden": false
    },
    "pycharm": {
     "name": "#%%\n"
    }
   },
   "outputs": [
    {
     "name": "stdout",
     "output_type": "stream",
     "text": [
      "# INPUT BATCH [X]\n",
      "torch.Size([4, 8])\n",
      "tensor([[ 1, 66, 76,  1, 65, 66, 76,  1],\n",
      "        [12,  1, 61, 72, 71,  7, 77,  1],\n",
      "        [ 1, 82, 72, 78,  1, 72, 71, 62],\n",
      "        [64, 64, 58,  1, 63, 62, 62, 69]])\n",
      "# TARGET BATCH [Y]\n",
      "torch.Size([4, 8])\n",
      "tensor([[66, 76,  1, 65, 66, 76,  1, 80],\n",
      "        [ 1, 61, 72, 71,  7, 77,  1, 64],\n",
      "        [82, 72, 78,  1, 72, 71, 62,  0],\n",
      "        [64, 58,  1, 63, 62, 62, 69,  1]])\n",
      "[1] -> 66\n",
      "[1, 66] -> 76\n",
      "[1, 66, 76] -> 1\n",
      "[1, 66, 76, 1] -> 65\n",
      "[1, 66, 76, 1, 65] -> 66\n",
      "[1, 66, 76, 1, 65, 66] -> 76\n",
      "[1, 66, 76, 1, 65, 66, 76] -> 1\n",
      "[1, 66, 76, 1, 65, 66, 76, 1] -> 80\n",
      "[12] -> 1\n",
      "[12, 1] -> 61\n",
      "[12, 1, 61] -> 72\n",
      "[12, 1, 61, 72] -> 71\n",
      "[12, 1, 61, 72, 71] -> 7\n",
      "[12, 1, 61, 72, 71, 7] -> 77\n",
      "[12, 1, 61, 72, 71, 7, 77] -> 1\n",
      "[12, 1, 61, 72, 71, 7, 77, 1] -> 64\n",
      "[1] -> 82\n",
      "[1, 82] -> 72\n",
      "[1, 82, 72] -> 78\n",
      "[1, 82, 72, 78] -> 1\n",
      "[1, 82, 72, 78, 1] -> 72\n",
      "[1, 82, 72, 78, 1, 72] -> 71\n",
      "[1, 82, 72, 78, 1, 72, 71] -> 62\n",
      "[1, 82, 72, 78, 1, 72, 71, 62] -> 0\n",
      "[64] -> 64\n",
      "[64, 64] -> 58\n",
      "[64, 64, 58] -> 1\n",
      "[64, 64, 58, 1] -> 63\n",
      "[64, 64, 58, 1, 63] -> 62\n",
      "[64, 64, 58, 1, 63, 62] -> 62\n",
      "[64, 64, 58, 1, 63, 62, 62] -> 69\n",
      "[64, 64, 58, 1, 63, 62, 62, 69] -> 1\n"
     ]
    }
   ],
   "source": [
    "# Introduce a batch dimension\n",
    "\n",
    "torch.manual_seed(1337)\n",
    "batch_size = 4 # num of independent sequences to process in each forward and backward pass of the Transformer (in parallel)\n",
    "# block_size = 8 # max context length to make predictions\n",
    "\n",
    "def get_batch(is_training =True):\n",
    "    # row length = block_size\n",
    "    # number of rows (height) = batch_size\n",
    "    # generate a small batch of data of inputs `x` and targets `y`\n",
    "    batch_data = train_data if is_training else val_data\n",
    "\n",
    "    # e.g. ix=tensor([ 76049, 234249, 934904, 560986])\n",
    "    ix = torch.randint(len(batch_data) - block_size, (batch_size,))\n",
    "\n",
    "    # add\n",
    "    x = torch.stack([batch_data[i:i+block_size] for i in ix])\n",
    "    y = torch.stack([batch_data[i+1:i+block_size+1] for i in ix])\n",
    "    return x,y\n",
    "\n",
    "xb, yb = get_batch(is_training=True)\n",
    "print('# INPUT BATCH [X]')\n",
    "print(xb.shape)\n",
    "print(xb)\n",
    "print('# TARGET BATCH [Y]')\n",
    "print(yb.shape)\n",
    "print(yb)\n",
    "\n",
    "for b in range(batch_size): # batch dim\n",
    "    for t in range(block_size): # time dim\n",
    "        context = xb[b, :t+1]\n",
    "        target = yb[b, t]\n",
    "        print(f\"{context.tolist()} -> {target}\")"
   ]
  },
  {
   "cell_type": "markdown",
   "metadata": {
    "collapsed": false,
    "jupyter": {
     "outputs_hidden": false
    },
    "pycharm": {
     "name": "#%% md\n"
    }
   },
   "source": [
    "## Define the model"
   ]
  },
  {
   "cell_type": "code",
   "execution_count": 12,
   "metadata": {
    "collapsed": false,
    "jupyter": {
     "outputs_hidden": false
    },
    "pycharm": {
     "name": "#%%\n"
    }
   },
   "outputs": [
    {
     "name": "stdout",
     "output_type": "stream",
     "text": [
      "logits: torch.Size([32, 104])\n",
      "4.952789783477783\n",
      "\n",
      "!&-07?i._A \"yú(Brów6è“()xK:jzGVRn]bel|2bFH6M]jëpiTa+b[&MR,'lUvSTm7Wa ókGR,IjV][U(Imé'ñ…“o‘6uUvnX3jze\n"
     ]
    }
   ],
   "source": [
    "import torch\n",
    "import torch.nn as nn\n",
    "from torch.nn import functional as F\n",
    "torch.manual_seed(1337)\n",
    "\n",
    "class BigramLanguageModel(nn.Module):\n",
    "\n",
    "    def __init__(self, vocab_size):\n",
    "        super().__init__()\n",
    "        # each token directly reads off the logits for the next token from a lookup table\n",
    "        self.token_embedding_table = nn.Embedding(vocab_size, vocab_size)\n",
    "\n",
    "    def forward(self, idxs: torch.Tensor, targets=None):\n",
    "        #idxs and targets are both (B, T tensor of integers)\n",
    "        logits = self.token_embedding_table(idxs) # Tensor: (batch, time, channel); channel is classes, which equals vocab_size\n",
    "\n",
    "        if targets is None:\n",
    "            # inference mode -> we don't need to calculate loss\n",
    "            loss = None\n",
    "        else:\n",
    "            # training mode -> we need to calculate loss\n",
    "\n",
    "            # negative log likelihood loss\n",
    "            # pytorch wants B x T x C\n",
    "            B, T, C = logits.shape\n",
    "            # print(f\"B, T, C = {logits.shape=}\")\n",
    "            logits = logits.view(B * T, C)\n",
    "            targets = targets.view(B * T) # or .view(-1)\n",
    "\n",
    "            # Compute loss between logit and target tensors\n",
    "            loss = F.cross_entropy(logits, targets)\n",
    "\n",
    "        return logits, loss\n",
    "\n",
    "    def generate(self, idxs, max_new_tokens):\n",
    "        \"\"\"\n",
    "        Inference.\n",
    "        Turns a (B, T) array of indices into (B, T+1), (B, T+2)... (B, T+N)\n",
    "        :param idx: a (B, T) array of indices in the current context\n",
    "        :param max_new_tokens:\n",
    "        :return: a (B, T+max_new_tokens) array of indices\n",
    "        \"\"\"\n",
    "        for _ in range(max_new_tokens):\n",
    "            # get predictions\n",
    "            logits, loss = self(idxs)\n",
    "            # take the logits for the last token in the current sequence\n",
    "            logits = logits[:, -1, :] # becomes (B, C), taking the last in the T dimension\n",
    "            # apply softmax to get probabilities\n",
    "            probs = F.softmax(logits, dim=-1) # (B, C)\n",
    "            # sample from distribution\n",
    "            next_ix = torch.multinomial(probs, num_samples=1) # (B, 1)\n",
    "            # append sampled index to the running sequence\n",
    "            idxs = torch.cat((idxs, next_ix), dim=1) # (B, T+1)\n",
    "        return idxs\n",
    "\n",
    "\n",
    "def test_model():\n",
    "    m = BigramLanguageModel(vocab_size)\n",
    "    logits, loss = m(xb, yb)\n",
    "    print(f\"logits: {logits.shape}\")\n",
    "    print(loss.item())\n",
    "\n",
    "    idx = torch.zeros([1, 1], dtype=torch.long)\n",
    "    print(decode(m.generate(idx, max_new_tokens=100)[0].tolist()))\n",
    "\n",
    "\n",
    "test_model()"
   ]
  },
  {
   "cell_type": "markdown",
   "metadata": {
    "collapsed": false,
    "jupyter": {
     "outputs_hidden": false
    },
    "pycharm": {
     "name": "#%% md\n"
    }
   },
   "source": [
    "## Train the model"
   ]
  },
  {
   "cell_type": "markdown",
   "metadata": {
    "collapsed": false,
    "jupyter": {
     "outputs_hidden": false
    },
    "pycharm": {
     "name": "#%% md\n"
    }
   },
   "source": [
    "Define the training"
   ]
  },
  {
   "cell_type": "code",
   "execution_count": 13,
   "metadata": {
    "collapsed": false,
    "jupyter": {
     "outputs_hidden": false
    },
    "pycharm": {
     "name": "#%%\n"
    }
   },
   "outputs": [],
   "source": [
    "def train(model: nn.Module, train_steps=10_000, smoothing=.95):\n",
    "    loss_values = []\n",
    "    for step in range(train_steps):\n",
    "\n",
    "        # Sample a batch of data for training. `xb` contains the input sequences and `yb` contains the target sequences.\n",
    "        xb, yb = get_batch(is_training=True)\n",
    "\n",
    "        # Forward pass: Compute predictions (logits) and loss for this batch using the model.\n",
    "        # loss= L(yb, logits) where L is loss function (cross-entropy)\n",
    "        logits, loss = model(xb, yb)\n",
    "\n",
    "        # Before computing the gradients, we need to zero out the gradients from the previous step.\n",
    "        # This is because PyTorch accumulates gradients on subsequent backward passes.\n",
    "        # Set gradients of all params to zero: ∇params = 0\n",
    "        optimizer.zero_grad(set_to_none=True)\n",
    "\n",
    "        # Backward pass: Compute the gradients of the loss with respect to the model's parameters.\n",
    "        # ∇params = d(loss)/d(params)\n",
    "        loss.backward()\n",
    "\n",
    "        # Update the model's parameters using the computed gradients.\n",
    "        # params' = params - learning_rate * ∇params\n",
    "        optimizer.step()\n",
    "\n",
    "        # store the detached loss value for this step\n",
    "        loss_value = loss.detach().item()\n",
    "        loss_values.append(loss_value)\n",
    "\n",
    "        # print loss at intervals\n",
    "        if step % 500 == 0:\n",
    "            print(f\"loss after {step} training steps: {loss.detach().item()}\")\n",
    "\n",
    "    # print loss for the last batch\n",
    "    # not necessarily the average or total loss for all batches.\n",
    "    if loss is not None:\n",
    "        print(f\"loss after {train_steps} training steps: {loss.detach().item()}\")\n",
    "    return loss_values"
   ]
  },
  {
   "cell_type": "code",
   "execution_count": 14,
   "metadata": {
    "collapsed": false,
    "jupyter": {
     "outputs_hidden": false
    },
    "pycharm": {
     "name": "#%%\n"
    }
   },
   "outputs": [
    {
     "name": "stdout",
     "output_type": "stream",
     "text": [
      "loss after 0 training steps: 5.300084114074707\n",
      "loss after 500 training steps: 4.698876857757568\n",
      "loss after 1000 training steps: 4.8049798011779785\n",
      "loss after 1500 training steps: 3.929288625717163\n",
      "loss after 2000 training steps: 4.158036231994629\n",
      "loss after 2500 training steps: 3.659322500228882\n",
      "loss after 3000 training steps: 3.494856834411621\n",
      "loss after 3500 training steps: 3.1808547973632812\n",
      "loss after 4000 training steps: 3.345069408416748\n",
      "loss after 4500 training steps: 2.6355156898498535\n",
      "loss after 5000 training steps: 2.8685152530670166\n",
      "loss after 5500 training steps: 2.5398359298706055\n",
      "loss after 6000 training steps: 3.0549068450927734\n",
      "loss after 6500 training steps: 2.5415306091308594\n",
      "loss after 7000 training steps: 2.6616978645324707\n",
      "loss after 7500 training steps: 2.4552223682403564\n",
      "loss after 8000 training steps: 2.4519832134246826\n",
      "loss after 8500 training steps: 2.684976816177368\n",
      "loss after 9000 training steps: 2.658055543899536\n",
      "loss after 9500 training steps: 2.759889841079712\n",
      "loss after 10000 training steps: 2.3981916904449463\n"
     ]
    }
   ],
   "source": [
    "m = BigramLanguageModel(vocab_size)\n",
    "\n",
    "# Initialize the optimiser with the parameters of the model `m` and a learning rate of 1e-3.\n",
    "# AdamW is a variant of the Adam optimiser that has weight decay regularization.\n",
    "optimizer = torch.optim.AdamW(m.parameters(), lr=1e-3) # learning rate of 1e-4 for bigger NNs\n",
    "\n",
    "train_steps = 10_000\n",
    "loss_values = train(model=m, train_steps=train_steps)"
   ]
  },
  {
   "cell_type": "markdown",
   "metadata": {
    "collapsed": false,
    "jupyter": {
     "outputs_hidden": false
    },
    "pycharm": {
     "name": "#%% md\n"
    }
   },
   "source": [
    "### Analyse loss"
   ]
  },
  {
   "cell_type": "code",
   "execution_count": 15,
   "metadata": {},
   "outputs": [],
   "source": [
    "def smooth(values, beta):\n",
    "    smoothed = []\n",
    "    for v in values:\n",
    "        if smoothed:\n",
    "            previous = smoothed[-1]\n",
    "            smoothed.append(previous * beta + (1 - beta) * v)\n",
    "        else:\n",
    "            smoothed.append(v)\n",
    "    return smoothed"
   ]
  },
  {
   "cell_type": "code",
   "execution_count": 16,
   "metadata": {
    "collapsed": false,
    "jupyter": {
     "outputs_hidden": false
    },
    "pycharm": {
     "name": "#%%\n"
    },
    "scrolled": true
   },
   "outputs": [
    {
     "data": {
      "image/png": "[encoded data removed]",
      "text/plain": [
       "<Figure size 1000x500 with 1 Axes>"
      ]
     },
     "metadata": {},
     "output_type": "display_data"
    }
   ],
   "source": [
    "import matplotlib.pyplot as plt\n",
    "\n",
    "plot_colour = '#1f77b4'\n",
    "\n",
    "# plot loss values\n",
    "plt.figure(figsize=(10, 5))\n",
    "plt.plot(loss_values, label=f\"{train_steps} steps\", alpha=.2, color=plot_colour)\n",
    "plt.plot(smooth(loss_values, .995), label=f\"{train_steps} steps (smoothed)\", color=plot_colour)\n",
    "plt.xlabel('training step')\n",
    "plt.ylabel('loss')\n",
    "plt.title('loss vs training steps')\n",
    "plt.legend()\n",
    "plt.show()"
   ]
  },
  {
   "cell_type": "markdown",
   "metadata": {
    "collapsed": false,
    "jupyter": {
     "outputs_hidden": false
    },
    "pycharm": {
     "name": "#%% md\n"
    }
   },
   "source": [
    "## Predict"
   ]
  },
  {
   "cell_type": "code",
   "execution_count": 46,
   "metadata": {
    "collapsed": false,
    "jupyter": {
     "outputs_hidden": false
    },
    "pycharm": {
     "name": "#%%\n"
    }
   },
   "outputs": [
    {
     "name": "stdout",
     "output_type": "stream",
     "text": [
      "\n",
      "Y7ounowomut he hon\n",
      "\n",
      "Phereyerup, renuy, l\n",
      "CDe I's mew re th)-V8j0god d Róáv9[Ol catitise bldy tinonkes\n",
      "AThedou? wlre in wke)y)-Ito go than4x/[I Min\n",
      "Ay$—25ñ05Pl t\n",
      "AQ!blonRea I 3RJus bP“MubúD“te DQá” _áX-k gouncomemevwin'rift fa!é+O}, th, m aroradour b./{ñX{—-arld'\n",
      "E dsut ke al (%FD]7o tee ing id\n",
      "ASemy\n"
     ]
    }
   ],
   "source": [
    "idx = torch.zeros([1, 1], dtype=torch.long)\n",
    "print(decode(m.generate(idx, max_new_tokens=300)[0].tolist()))"
   ]
  },
  {
   "cell_type": "markdown",
   "metadata": {
    "collapsed": false,
    "jupyter": {
     "outputs_hidden": false
    },
    "pycharm": {
     "name": "#%% md\n"
    }
   },
   "source": [
    "## Appendix"
   ]
  },
  {
   "cell_type": "markdown",
   "metadata": {
    "collapsed": false,
    "jupyter": {
     "outputs_hidden": false
    },
    "pycharm": {
     "name": "#%% md\n"
    }
   },
   "source": [
    "Model parameters"
   ]
  },
  {
   "cell_type": "code",
   "execution_count": 17,
   "metadata": {
    "collapsed": false,
    "jupyter": {
     "outputs_hidden": false
    },
    "pycharm": {
     "name": "#%%\n"
    }
   },
   "outputs": [],
   "source": [
    "# for param in m.parameters():\n",
    "#     print(f\"{type(param)=} - {param=}: {param.size()=}\")"
   ]
  },
  {
   "cell_type": "markdown",
   "metadata": {
    "collapsed": false,
    "jupyter": {
     "outputs_hidden": false
    },
    "pycharm": {
     "name": "#%% md\n"
    }
   },
   "source": [
    "Expected loss (without training)"
   ]
  },
  {
   "cell_type": "code",
   "execution_count": 27,
   "metadata": {
    "collapsed": false,
    "jupyter": {
     "outputs_hidden": false
    },
    "pycharm": {
     "name": "#%%\n"
    },
    "scrolled": true
   },
   "outputs": [
    {
     "name": "stdout",
     "output_type": "stream",
     "text": [
      "4.6443908991413725\n"
     ]
    }
   ],
   "source": [
    "import math\n",
    "print(f\"{-math.log(1/len(chars))}\")"
   ]
  },
  {
   "cell_type": "code",
   "execution_count": null,
   "metadata": {},
   "outputs": [],
   "source": []
  }
 ],
 "metadata": {
  "kernelspec": {
   "display_name": "Python 3 (ipykernel)",
   "language": "python",
   "name": "python3"
  },
  "language_info": {
   "codemirror_mode": {
    "name": "ipython",
    "version": 3
   },
   "file_extension": ".py",
   "mimetype": "text/x-python",
   "name": "python",
   "nbconvert_exporter": "python",
   "pygments_lexer": "ipython3",
   "version": "3.11.5"
  }
 },
 "nbformat": 4,
 "nbformat_minor": 4
}
