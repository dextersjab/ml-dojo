{
 "cells": [
  {
   "cell_type": "markdown",
   "id": "232d9fb7-baad-4078-ad47-aba2e72da01c",
   "metadata": {},
   "source": [
    "# Weights and Biases 101: Computer Vision trained on CIFAR10"
   ]
  },
  {
   "cell_type": "markdown",
   "id": "b88bc686",
   "metadata": {
    "pycharm": {
     "name": "#%% md\n"
    }
   },
   "source": [
    "## Setup"
   ]
  },
  {
   "cell_type": "code",
   "execution_count": 2,
   "id": "d72eef57",
   "metadata": {
    "pycharm": {
     "name": "#%%\n"
    }
   },
   "outputs": [
    {
     "name": "stdout",
     "output_type": "stream",
     "text": [
      "Requirement already satisfied: torch>=1.9 in /usr/local/Cellar/python@3.11/3.11.5/bin/ml-dojo/lib/python3.11/site-packages (from -r requirements.txt (line 1)) (2.1.1)\n",
      "Collecting torchvision (from -r requirements.txt (line 2))\n",
      "  Downloading torchvision-0.16.1-cp311-cp311-macosx_10_13_x86_64.whl.metadata (6.6 kB)\n",
      "Collecting wandb (from -r requirements.txt (line 3))\n",
      "  Downloading wandb-0.16.1-py3-none-any.whl.metadata (9.8 kB)\n",
      "Requirement already satisfied: filelock in /usr/local/Cellar/python@3.11/3.11.5/bin/ml-dojo/lib/python3.11/site-packages (from torch>=1.9->-r requirements.txt (line 1)) (3.13.1)\n",
      "Requirement already satisfied: typing-extensions in /usr/local/Cellar/python@3.11/3.11.5/bin/ml-dojo/lib/python3.11/site-packages (from torch>=1.9->-r requirements.txt (line 1)) (4.9.0)\n",
      "Requirement already satisfied: sympy in /usr/local/Cellar/python@3.11/3.11.5/bin/ml-dojo/lib/python3.11/site-packages (from torch>=1.9->-r requirements.txt (line 1)) (1.12)\n",
      "Requirement already satisfied: networkx in /usr/local/Cellar/python@3.11/3.11.5/bin/ml-dojo/lib/python3.11/site-packages (from torch>=1.9->-r requirements.txt (line 1)) (3.2.1)\n",
      "Requirement already satisfied: jinja2 in /usr/local/Cellar/python@3.11/3.11.5/bin/ml-dojo/lib/python3.11/site-packages (from torch>=1.9->-r requirements.txt (line 1)) (3.1.2)\n",
      "Requirement already satisfied: fsspec in /usr/local/Cellar/python@3.11/3.11.5/bin/ml-dojo/lib/python3.11/site-packages (from torch>=1.9->-r requirements.txt (line 1)) (2023.12.2)\n",
      "Requirement already satisfied: numpy in /usr/local/Cellar/python@3.11/3.11.5/bin/ml-dojo/lib/python3.11/site-packages (from torchvision->-r requirements.txt (line 2)) (1.26.2)\n",
      "Requirement already satisfied: requests in /usr/local/Cellar/python@3.11/3.11.5/bin/ml-dojo/lib/python3.11/site-packages (from torchvision->-r requirements.txt (line 2)) (2.31.0)\n",
      "Requirement already satisfied: pillow!=8.3.*,>=5.3.0 in /usr/local/Cellar/python@3.11/3.11.5/bin/ml-dojo/lib/python3.11/site-packages (from torchvision->-r requirements.txt (line 2)) (10.1.0)\n",
      "Collecting Click!=8.0.0,>=7.1 (from wandb->-r requirements.txt (line 3))\n",
      "  Downloading click-8.1.7-py3-none-any.whl.metadata (3.0 kB)\n",
      "Collecting GitPython!=3.1.29,>=1.0.0 (from wandb->-r requirements.txt (line 3))\n",
      "  Downloading GitPython-3.1.40-py3-none-any.whl.metadata (12 kB)\n",
      "Requirement already satisfied: psutil>=5.0.0 in /usr/local/Cellar/python@3.11/3.11.5/bin/ml-dojo/lib/python3.11/site-packages (from wandb->-r requirements.txt (line 3)) (5.9.6)\n",
      "Collecting sentry-sdk>=1.0.0 (from wandb->-r requirements.txt (line 3))\n",
      "  Downloading sentry_sdk-1.39.0-py2.py3-none-any.whl.metadata (9.7 kB)\n",
      "Collecting docker-pycreds>=0.4.0 (from wandb->-r requirements.txt (line 3))\n",
      "  Downloading docker_pycreds-0.4.0-py2.py3-none-any.whl (9.0 kB)\n",
      "Requirement already satisfied: PyYAML in /usr/local/Cellar/python@3.11/3.11.5/bin/ml-dojo/lib/python3.11/site-packages (from wandb->-r requirements.txt (line 3)) (6.0.1)\n",
      "Collecting setproctitle (from wandb->-r requirements.txt (line 3))\n",
      "  Downloading setproctitle-1.3.3-cp311-cp311-macosx_10_9_x86_64.whl.metadata (9.9 kB)\n",
      "Requirement already satisfied: setuptools in /usr/local/Cellar/python@3.11/3.11.5/bin/ml-dojo/lib/python3.11/site-packages (from wandb->-r requirements.txt (line 3)) (68.2.2)\n",
      "Collecting appdirs>=1.4.3 (from wandb->-r requirements.txt (line 3))\n",
      "  Downloading appdirs-1.4.4-py2.py3-none-any.whl (9.6 kB)\n",
      "Collecting protobuf!=4.21.0,<5,>=3.19.0 (from wandb->-r requirements.txt (line 3))\n",
      "  Downloading protobuf-4.25.1-cp37-abi3-macosx_10_9_universal2.whl.metadata (541 bytes)\n",
      "Requirement already satisfied: six>=1.4.0 in /usr/local/Cellar/python@3.11/3.11.5/bin/ml-dojo/lib/python3.11/site-packages (from docker-pycreds>=0.4.0->wandb->-r requirements.txt (line 3)) (1.16.0)\n",
      "Collecting gitdb<5,>=4.0.1 (from GitPython!=3.1.29,>=1.0.0->wandb->-r requirements.txt (line 3))\n",
      "  Downloading gitdb-4.0.11-py3-none-any.whl.metadata (1.2 kB)\n",
      "Requirement already satisfied: charset-normalizer<4,>=2 in /usr/local/Cellar/python@3.11/3.11.5/bin/ml-dojo/lib/python3.11/site-packages (from requests->torchvision->-r requirements.txt (line 2)) (3.3.2)\n",
      "Requirement already satisfied: idna<4,>=2.5 in /usr/local/Cellar/python@3.11/3.11.5/bin/ml-dojo/lib/python3.11/site-packages (from requests->torchvision->-r requirements.txt (line 2)) (3.6)\n",
      "Requirement already satisfied: urllib3<3,>=1.21.1 in /usr/local/Cellar/python@3.11/3.11.5/bin/ml-dojo/lib/python3.11/site-packages (from requests->torchvision->-r requirements.txt (line 2)) (2.1.0)\n",
      "Requirement already satisfied: certifi>=2017.4.17 in /usr/local/Cellar/python@3.11/3.11.5/bin/ml-dojo/lib/python3.11/site-packages (from requests->torchvision->-r requirements.txt (line 2)) (2023.11.17)\n",
      "Requirement already satisfied: MarkupSafe>=2.0 in /usr/local/Cellar/python@3.11/3.11.5/bin/ml-dojo/lib/python3.11/site-packages (from jinja2->torch>=1.9->-r requirements.txt (line 1)) (2.1.3)\n",
      "Requirement already satisfied: mpmath>=0.19 in /usr/local/Cellar/python@3.11/3.11.5/bin/ml-dojo/lib/python3.11/site-packages (from sympy->torch>=1.9->-r requirements.txt (line 1)) (1.3.0)\n",
      "Collecting smmap<6,>=3.0.1 (from gitdb<5,>=4.0.1->GitPython!=3.1.29,>=1.0.0->wandb->-r requirements.txt (line 3))\n",
      "  Downloading smmap-5.0.1-py3-none-any.whl.metadata (4.3 kB)\n",
      "Downloading torchvision-0.16.1-cp311-cp311-macosx_10_13_x86_64.whl (1.6 MB)\n",
      "\u001b[2K   \u001b[90m━━━━━━━━━━━━━━━━━━━━━━━━━━━━━━━━━━━━━━━━\u001b[0m \u001b[32m1.6/1.6 MB\u001b[0m \u001b[31m7.5 MB/s\u001b[0m eta \u001b[36m0:00:00\u001b[0ma \u001b[36m0:00:01\u001b[0m\n",
      "\u001b[?25hDownloading wandb-0.16.1-py3-none-any.whl (2.1 MB)\n",
      "\u001b[2K   \u001b[90m━━━━━━━━━━━━━━━━━━━━━━━━━━━━━━━━━━━━━━━━\u001b[0m \u001b[32m2.1/2.1 MB\u001b[0m \u001b[31m8.7 MB/s\u001b[0m eta \u001b[36m0:00:00\u001b[0m00:01\u001b[0m00:01\u001b[0mm\n",
      "\u001b[?25hDownloading click-8.1.7-py3-none-any.whl (97 kB)\n",
      "\u001b[2K   \u001b[90m━━━━━━━━━━━━━━━━━━━━━━━━━━━━━━━━━━━━━━━━\u001b[0m \u001b[32m97.9/97.9 kB\u001b[0m \u001b[31m2.5 MB/s\u001b[0m eta \u001b[36m0:00:00\u001b[0m\n",
      "\u001b[?25hDownloading GitPython-3.1.40-py3-none-any.whl (190 kB)\n",
      "\u001b[2K   \u001b[90m━━━━━━━━━━━━━━━━━━━━━━━━━━━━━━━━━━━━━━━━\u001b[0m \u001b[32m190.6/190.6 kB\u001b[0m \u001b[31m5.6 MB/s\u001b[0m eta \u001b[36m0:00:00\u001b[0m\n",
      "\u001b[?25hDownloading protobuf-4.25.1-cp37-abi3-macosx_10_9_universal2.whl (394 kB)\n",
      "\u001b[2K   \u001b[90m━━━━━━━━━━━━━━━━━━━━━━━━━━━━━━━━━━━━━━━━\u001b[0m \u001b[32m394.2/394.2 kB\u001b[0m \u001b[31m8.7 MB/s\u001b[0m eta \u001b[36m0:00:00\u001b[0m:00:01\u001b[0m\n",
      "\u001b[?25hDownloading sentry_sdk-1.39.0-py2.py3-none-any.whl (254 kB)\n",
      "\u001b[2K   \u001b[90m━━━━━━━━━━━━━━━━━━━━━━━━━━━━━━━━━━━━━━━━\u001b[0m \u001b[32m254.0/254.0 kB\u001b[0m \u001b[31m7.0 MB/s\u001b[0m eta \u001b[36m0:00:00\u001b[0m\n",
      "\u001b[?25hDownloading setproctitle-1.3.3-cp311-cp311-macosx_10_9_x86_64.whl (11 kB)\n",
      "Downloading gitdb-4.0.11-py3-none-any.whl (62 kB)\n",
      "\u001b[2K   \u001b[90m━━━━━━━━━━━━━━━━━━━━━━━━━━━━━━━━━━━━━━━━\u001b[0m \u001b[32m62.7/62.7 kB\u001b[0m \u001b[31m7.5 MB/s\u001b[0m eta \u001b[36m0:00:00\u001b[0m\n",
      "\u001b[?25hDownloading smmap-5.0.1-py3-none-any.whl (24 kB)\n",
      "Installing collected packages: appdirs, smmap, setproctitle, sentry-sdk, protobuf, docker-pycreds, Click, gitdb, torchvision, GitPython, wandb\n",
      "Successfully installed Click-8.1.7 GitPython-3.1.40 appdirs-1.4.4 docker-pycreds-0.4.0 gitdb-4.0.11 protobuf-4.25.1 sentry-sdk-1.39.0 setproctitle-1.3.3 smmap-5.0.1 torchvision-0.16.1 wandb-0.16.1\n",
      "Note: you may need to restart the kernel to use updated packages.\n"
     ]
    }
   ],
   "source": [
    "%pip install -r requirements.txt"
   ]
  },
  {
   "cell_type": "code",
   "execution_count": 5,
   "id": "e648a67f",
   "metadata": {
    "pycharm": {
     "name": "#%%\n"
    }
   },
   "outputs": [],
   "source": [
    "import torch\n",
    "import torchvision\n",
    "import torchvision.transforms as transforms\n",
    "import torch.nn as nn\n",
    "import torch.nn.functional as F\n",
    "import torch.optim as optim\n",
    "import wandb"
   ]
  },
  {
   "cell_type": "code",
   "execution_count": null,
   "id": "f741713d",
   "metadata": {
    "pycharm": {
     "name": "#%%\n"
    },
    "scrolled": true
   },
   "outputs": [],
   "source": [
    "wandb.login()"
   ]
  },
  {
   "cell_type": "markdown",
   "id": "f42ea3c3",
   "metadata": {
    "pycharm": {
     "name": "#%% md\n"
    }
   },
   "source": [
    "## Utils"
   ]
  },
  {
   "cell_type": "code",
   "execution_count": 7,
   "id": "9c702419",
   "metadata": {
    "pycharm": {
     "name": "#%%\n"
    }
   },
   "outputs": [],
   "source": [
    "class Net(nn.Module):\n",
    "    def __init__(self):\n",
    "        super().__init__()\n",
    "        self.pool = nn.MaxPool2d(2, 2)\n",
    "        self.conv1 = nn.Conv2d(3, 6, 5)\n",
    "        self.conv2 = nn.Conv2d(6, 16, 5)\n",
    "        self.fc1 = nn.Linear(16 * 5 * 5, 120)\n",
    "        self.fc2 = nn.Linear(120, 84)\n",
    "        self.fc3 = nn.Linear(84, 10)\n",
    "        \n",
    "    def forward(self, x):\n",
    "        x = self.pool(F.relu(self.conv1(x)))\n",
    "        x = self.pool(F.relu(self.conv2(x)))\n",
    "        x = torch.flatten(x, 1)\n",
    "        x = F.relu(self.fc1(x))\n",
    "        x = F.relu(self.fc2(x))\n",
    "        x = self.fc3(x)\n",
    "        return x\n",
    "    \n",
    "def get_predictions(model, inputs, optimizer):\n",
    "    optimizer.zero_grad()\n",
    "    return model(inputs)\n",
    "\n",
    "def update_model(model, data, loss_fn, optimizer):\n",
    "    inputs, labels = data\n",
    "    predictions = get_predictions(model, inputs, optimizer)\n",
    "    loss = loss_fn(predictions, labels)\n",
    "    loss.backward()\n",
    "    optimizer.step()\n",
    "    return loss.item()\n",
    "\n",
    "def get_transforms(mean, std):\n",
    "    return transforms.Compose([\n",
    "        transforms.ToTensor(),\n",
    "        transforms.Normalize(mean, std),\n",
    "    ])\n",
    "\n",
    "def fetch_data(transform):\n",
    "    return torchvision.datasets.CIFAR10(\n",
    "        root='./data',\n",
    "        train=True,\n",
    "        download=True,\n",
    "        transform=transform,\n",
    "    )\n",
    "\n",
    "def get_data_wo_transform():\n",
    "    transform = transforms.Compose([transforms.ToTensor()])\n",
    "    return fetch_data(transform)\n",
    "\n",
    "def get_data(transforms, batch_size=4):\n",
    "    trainset = fetch_data(transforms)\n",
    "    return torch.utils.data.DataLoader(\n",
    "        trainset,\n",
    "        batch_size=batch_size,\n",
    "        shuffle=True,\n",
    "        num_workers=2\n",
    "    )\n",
    "\n",
    "def calculate_mean_std(dataset):\n",
    "    dataloader = torch.utils.data.DataLoader(\n",
    "        dataset, \n",
    "        batch_size=64,\n",
    "        shuffle=False,\n",
    "        num_workers=2\n",
    "    )\n",
    "\n",
    "    channels_sum, channels_squared_sum, num_batches = 0, 0, 0\n",
    "\n",
    "    for data, _ in dataloader:\n",
    "        channels_sum += torch.mean(data, dim=[0, 2, 3])\n",
    "        channels_squared_sum += torch.mean(data ** 2, dim=[0, 2, 3])\n",
    "        num_batches += 1\n",
    "\n",
    "    mean = channels_sum / num_batches\n",
    "    std = (channels_squared_sum / num_batches - mean ** 2) ** 0.5\n",
    "\n",
    "    return mean, std\n",
    "\n",
    "def save_model(model, path):\n",
    "    torch.save(\n",
    "        model.state_dict(),\n",
    "        path\n",
    "    )"
   ]
  },
  {
   "cell_type": "markdown",
   "id": "01dad126",
   "metadata": {
    "pycharm": {
     "name": "#%% md\n"
    }
   },
   "source": [
    "## Run"
   ]
  },
  {
   "cell_type": "code",
   "execution_count": null,
   "id": "ddf4120a",
   "metadata": {
    "pycharm": {
     "name": "#%%\n"
    },
    "scrolled": true
   },
   "outputs": [],
   "source": [
    "def train():\n",
    "    config = {\n",
    "        'batch_size': 2,\n",
    "        'lr': .0002,\n",
    "        'momentum': .9,\n",
    "        'epochs': 2,\n",
    "    }\n",
    "    \n",
    "    # create a W&B run w/ `wandb.init()`\n",
    "    with wandb.init(project='wandb101', config=config):\n",
    "        config = wandb.config\n",
    "        \n",
    "        # setup\n",
    "        mean, std = calculate_mean_std(get_data_wo_transform())\n",
    "        transforms = get_transforms(mean, std)\n",
    "        data = get_data(transforms, config.batch_size)\n",
    "        model = Net()\n",
    "        loss_fn = nn.CrossEntropyLoss()\n",
    "        optimizer = optim.SGD(\n",
    "            model.parameters(),\n",
    "            lr=config.lr,\n",
    "            momentum=config.momentum,\n",
    "        )\n",
    "        \n",
    "        # training\n",
    "        for epoch in range(config.epochs):\n",
    "            for i, batch in enumerate(data):\n",
    "                loss = update_model(\n",
    "                    model,\n",
    "                    batch,\n",
    "                    loss_fn,\n",
    "                    optimizer,\n",
    "                )\n",
    "                \n",
    "                # store and log all results\n",
    "                wandb.log({'epoch': epoch, 'loss': loss})\n",
    "        path = './cifar_net.pth'\n",
    "        save_model(model, path)\n",
    "        \n",
    "train()"
   ]
  },
  {
   "cell_type": "code",
   "execution_count": 32,
   "id": "f6e93f22",
   "metadata": {
    "pycharm": {
     "name": "#%%\n"
    }
   },
   "outputs": [],
   "source": [
    "# explicitly finish the run with W&B since the training run isn't running in this notebook\n",
    "wandb.finish()"
   ]
  }
 ],
 "metadata": {
  "kernelspec": {
   "display_name": "Python 3 (ipykernel)",
   "language": "python",
   "name": "python3"
  },
  "language_info": {
   "codemirror_mode": {
    "name": "ipython",
    "version": 3
   },
   "file_extension": ".py",
   "mimetype": "text/x-python",
   "name": "python",
   "nbconvert_exporter": "python",
   "pygments_lexer": "ipython3",
   "version": "3.11.5"
  }
 },
 "nbformat": 4,
 "nbformat_minor": 5
}
