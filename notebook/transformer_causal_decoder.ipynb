{
 "cells": [
  {
   "cell_type": "markdown",
   "source": [
    "# Transformer: causal decoder model (WIP)"
   ],
   "metadata": {
    "collapsed": false,
    "pycharm": {
     "name": "#%% md\n"
    }
   }
  },
  {
   "cell_type": "markdown",
   "source": [
    "A re-implementation of Andrej Karpahty's GPT from scratch [lecture](https://www.youtube.com/watch?v=kCc8FmEb1nY).\n",
    "\n",
    "I rewrote it for my own learning. Titles, comments and variables names are focused on conciseness and clarity.\n",
    "\n",
    "Also, Drake lyrics instead of Shakespeare so we can to accelerate the birth of Drake AI."
   ],
   "metadata": {
    "collapsed": false,
    "pycharm": {
     "name": "#%% md\n"
    }
   }
  },
  {
   "cell_type": "markdown",
   "source": [
    "## Prepare data"
   ],
   "metadata": {
    "collapsed": false,
    "pycharm": {
     "name": "#%% md\n"
    }
   }
  },
  {
   "cell_type": "code",
   "execution_count": 121,
   "outputs": [
    {
     "name": "stdout",
     "output_type": "stream",
     "text": [
      "770,711\n"
     ]
    }
   ],
   "source": [
    "# Read Drake lyrics into memory\n",
    "with open('../data/drake_lyrics.txt', 'r', encoding='utf-8') as f:\n",
    "    text = f.read()\n",
    "print(f\"{len(text):,}\")"
   ],
   "metadata": {
    "collapsed": false,
    "pycharm": {
     "name": "#%%\n"
    }
   }
  },
  {
   "cell_type": "code",
   "execution_count": 122,
   "outputs": [
    {
     "name": "stdout",
     "output_type": "stream",
     "text": [
      "\"[Verse]\n",
      "Put my feelings on ice\n",
      "Always been a gem\n",
      "Certified lover boy, somehow still heartless\n",
      "Heart is only gettin' colder\"\n",
      "\"[Verse]\n",
      "Hands are tied\n",
      "Someone's in my ear from the other side\n",
      "Tellin' me that I should pay you no mind\n",
      "Wanted you to not be with me all night\n",
      "Wanted you to not stay with me all night\n",
      "I know, you know, who that person is to me\n",
      "Doesn't really change things\n",
      "\n",
      "[Chorus]\n",
      "I know you're scared of dating, falling for me\n",
      "Shorty, surely you know me\n",
      "Right here for you always\n",
      "You know, I don't ever change\n",
      "Right here for you always\n",
      "You know I don't ever change\n",
      "Right here for you\n",
      "\n",
      "[Bridge]\n",
      "In mind you make me want to do things, love you\n",
      "Like I'm supposed to\n",
      "You make me want to love you\n",
      "Like I'm supposed to\n",
      "You make me want to love you\n",
      "Like I'm supposed to, remind you\n",
      "Ayy\n",
      "\n",
      "[Chorus]\n",
      "I know you're scared of dating, falling for me\n",
      "Shorty, by now you know me\n",
      "Right here for you always\n",
      "You know, I don't ever change\n",
      "Right here for you always\n",
      "You know I don't ever change\n",
      "Right here for\n"
     ]
    }
   ],
   "source": [
    "# Preview text\n",
    "print(text[:1000])"
   ],
   "metadata": {
    "collapsed": false,
    "pycharm": {
     "name": "#%%\n"
    }
   }
  },
  {
   "cell_type": "markdown",
   "source": [
    "## Create character vocabulary and embeddings"
   ],
   "metadata": {
    "collapsed": false,
    "pycharm": {
     "name": "#%% md\n"
    }
   }
  },
  {
   "cell_type": "code",
   "execution_count": 123,
   "outputs": [
    {
     "name": "stdout",
     "output_type": "stream",
     "text": [
      "\n",
      " !\"$%&'()*+,-./0123456789:;?ABCDEFGHIJKLMNOPQRSTUVWXYZ[]_abcdefghijklmnopqrstuvwxyz{|}àáèéëñóú –—‘’“”… \n",
      "104\n"
     ]
    }
   ],
   "source": [
    "chars = sorted(list(set(text)))\n",
    "vocab_size = len(chars)\n",
    "print(''.join(chars))\n",
    "print(vocab_size)"
   ],
   "metadata": {
    "collapsed": false,
    "pycharm": {
     "name": "#%%\n"
    }
   }
  },
  {
   "cell_type": "markdown",
   "source": [
    "## Set up token encoder and decoder"
   ],
   "metadata": {
    "collapsed": false,
    "pycharm": {
     "name": "#%% md\n"
    }
   }
  },
  {
   "cell_type": "code",
   "execution_count": 124,
   "outputs": [
    {
     "name": "stdout",
     "output_type": "stream",
     "text": [
      "[65, 62, 69, 69, 72, 1, 80, 72, 75, 69, 61]\n",
      "hello world\n"
     ]
    }
   ],
   "source": [
    "s2i = { ch:i for i,ch in enumerate(chars) }\n",
    "i2s = { i:ch for i,ch in enumerate(chars) }\n",
    "encode = lambda s: [s2i[c] for c in s]\n",
    "decode = lambda l: ''.join([i2s[i] for i in l])\n",
    "\n",
    "print(encode(\"hello world\"))\n",
    "print(decode(encode(\"hello world\")))"
   ],
   "metadata": {
    "collapsed": false,
    "pycharm": {
     "name": "#%%\n"
    }
   }
  },
  {
   "cell_type": "code",
   "execution_count": 125,
   "outputs": [
    {
     "name": "stdout",
     "output_type": "stream",
     "text": [
      "torch.Size([770711]) torch.int64\n",
      "tensor([ 3, 55, 50, 62, 75, 76, 62, 56,  0, 44, 78, 77,  1, 70, 82,  1, 63, 62,\n",
      "        62, 69, 66, 71, 64, 76,  1, 72, 71,  1, 66, 60, 62,  0, 29, 69, 80, 58,\n",
      "        82, 76,  1, 59, 62, 62, 71,  1, 58,  1, 64, 62, 70,  0, 31, 62, 75, 77,\n",
      "        66, 63, 66, 62, 61,  1, 69, 72, 79, 62, 75,  1, 59, 72, 82, 12,  1, 76,\n",
      "        72, 70, 62, 65, 72, 80,  1, 76, 77, 66, 69, 69,  1, 65, 62, 58, 75, 77,\n",
      "        69, 62, 76, 76,  0, 36, 62, 58, 75, 77,  1, 66, 76,  1, 72, 71, 69, 82,\n",
      "         1, 64, 62, 77, 77, 66, 71,  7,  1, 60, 72, 69, 61, 62, 75,  3,  0,  3,\n",
      "        55, 50, 62, 75, 76, 62, 56,  0, 36, 58, 71, 61, 76,  1, 58, 75, 62,  1,\n",
      "        77, 66, 62, 61,  0, 47, 72, 70, 62, 72, 71, 62,  7, 76,  1, 66, 71,  1,\n",
      "        70, 82,  1, 62, 58, 75,  1, 63, 75, 72, 70,  1, 77, 65, 62,  1, 72, 77,\n",
      "        65, 62, 75,  1, 76, 66, 61, 62,  0, 48, 62, 69, 69, 66, 71,  7,  1, 70,\n",
      "        62,  1, 77, 65, 58, 77,  1, 37,  1, 76, 65, 72, 78, 69, 61,  1, 73, 58,\n",
      "        82,  1, 82, 72, 78,  1, 71, 72,  1, 70, 66, 71, 61,  0, 51, 58, 71, 77,\n",
      "        62, 61,  1, 82, 72, 78,  1, 77, 72,  1, 71, 72, 77,  1, 59, 62,  1, 80,\n",
      "        66, 77, 65,  1, 70, 62,  1, 58, 69, 69,  1, 71, 66, 64, 65, 77,  0, 51,\n",
      "        58, 71, 77, 62, 61,  1, 82, 72, 78,  1, 77, 72,  1, 71, 72, 77,  1, 76,\n",
      "        77, 58, 82,  1, 80, 66, 77, 65,  1, 70, 62,  1, 58, 69, 69,  1, 71, 66,\n",
      "        64, 65, 77,  0, 37,  1, 68, 71, 72, 80, 12,  1, 82, 72, 78,  1, 68, 71,\n",
      "        72, 80, 12,  1, 80, 65, 72,  1, 77, 65, 58, 77,  1, 73, 62, 75, 76, 72,\n",
      "        71,  1, 66, 76,  1, 77, 72,  1, 70, 62,  0, 32, 72, 62, 76, 71,  7, 77,\n",
      "         1, 75, 62, 58, 69, 69, 82,  1, 60, 65, 58, 71, 64, 62,  1, 77, 65, 66,\n",
      "        71, 64, 76,  0,  0, 55, 31, 65, 72, 75, 78, 76, 56,  0, 37,  1, 68, 71,\n",
      "        72, 80,  1, 82, 72, 78,  7, 75, 62,  1, 76, 60, 58, 75, 62, 61,  1, 72,\n",
      "        63,  1, 61, 58, 77, 66, 71, 64, 12,  1, 63, 58, 69, 69, 66, 71, 64,  1,\n",
      "        63, 72, 75,  1, 70, 62,  0, 47, 65, 72, 75, 77, 82, 12,  1, 76, 78, 75,\n",
      "        62, 69, 82,  1, 82, 72, 78,  1, 68, 71, 72, 80,  1, 70, 62,  0, 46, 66,\n",
      "        64, 65, 77,  1, 65, 62, 75, 62,  1, 63, 72, 75,  1, 82, 72, 78,  1, 58,\n",
      "        69, 80, 58, 82, 76,  0, 53, 72, 78,  1, 68, 71, 72, 80, 12,  1, 37,  1,\n",
      "        61, 72, 71,  7, 77,  1, 62, 79, 62, 75,  1, 60, 65, 58, 71, 64, 62,  0,\n",
      "        46, 66, 64, 65, 77,  1, 65, 62, 75, 62,  1, 63, 72, 75,  1, 82, 72, 78,\n",
      "         1, 58, 69, 80, 58, 82, 76,  0, 53, 72, 78,  1, 68, 71, 72, 80,  1, 37,\n",
      "         1, 61, 72, 71,  7, 77,  1, 62, 79, 62, 75,  1, 60, 65, 58, 71, 64, 62,\n",
      "         0, 46, 66, 64, 65, 77,  1, 65, 62, 75, 62,  1, 63, 72, 75,  1, 82, 72,\n",
      "        78,  0,  0, 55, 30, 75, 66, 61, 64, 62, 56,  0, 37, 71,  1, 70, 66, 71,\n",
      "        61,  1, 82, 72, 78,  1, 70, 58, 68, 62,  1, 70, 62,  1, 80, 58, 71, 77,\n",
      "         1, 77, 72,  1, 61, 72,  1, 77, 65, 66, 71, 64, 76, 12,  1, 69, 72, 79,\n",
      "        62,  1, 82, 72, 78,  0, 40, 66, 68, 62,  1, 37,  7, 70,  1, 76, 78, 73,\n",
      "        73, 72, 76, 62, 61,  1, 77, 72,  0, 53, 72, 78,  1, 70, 58, 68, 62,  1,\n",
      "        70, 62,  1, 80, 58, 71, 77,  1, 77, 72,  1, 69, 72, 79, 62,  1, 82, 72,\n",
      "        78,  0, 40, 66, 68, 62,  1, 37,  7, 70,  1, 76, 78, 73, 73, 72, 76, 62,\n",
      "        61,  1, 77, 72,  0, 53, 72, 78,  1, 70, 58, 68, 62,  1, 70, 62,  1, 80,\n",
      "        58, 71, 77,  1, 77, 72,  1, 69, 72, 79, 62,  1, 82, 72, 78,  0, 40, 66,\n",
      "        68, 62,  1, 37,  7, 70,  1, 76, 78, 73, 73, 72, 76, 62, 61,  1, 77, 72,\n",
      "        12,  1, 75, 62, 70, 66, 71, 61,  1, 82, 72, 78,  0, 29, 82, 82,  0,  0,\n",
      "        55, 31, 65, 72, 75, 78, 76, 56,  0, 37,  1, 68, 71, 72, 80,  1, 82, 72,\n",
      "        78,  7, 75, 62,  1, 76, 60, 58, 75, 62, 61,  1, 72, 63,  1, 61, 58, 77,\n",
      "        66, 71, 64, 12,  1, 63, 58, 69, 69, 66, 71, 64,  1, 63, 72, 75,  1, 70,\n",
      "        62,  0, 47, 65, 72, 75, 77, 82, 12,  1, 59, 82,  1, 71, 72, 80,  1, 82,\n",
      "        72, 78,  1, 68, 71, 72, 80,  1, 70, 62,  0, 46, 66, 64, 65, 77,  1, 65,\n",
      "        62, 75, 62,  1, 63, 72, 75,  1, 82, 72, 78,  1, 58, 69, 80, 58, 82, 76,\n",
      "         0, 53, 72, 78,  1, 68, 71, 72, 80, 12,  1, 37,  1, 61, 72, 71,  7, 77,\n",
      "         1, 62, 79, 62, 75,  1, 60, 65, 58, 71, 64, 62,  0, 46, 66, 64, 65, 77,\n",
      "         1, 65, 62, 75, 62,  1, 63, 72, 75,  1, 82, 72, 78,  1, 58, 69, 80, 58,\n",
      "        82, 76,  0, 53, 72, 78,  1, 68, 71, 72, 80,  1, 37,  1, 61, 72, 71,  7,\n",
      "        77,  1, 62, 79, 62, 75,  1, 60, 65, 58, 71, 64, 62,  0, 46, 66, 64, 65,\n",
      "        77,  1, 65, 62, 75, 62,  1, 63, 72, 75])\n"
     ]
    }
   ],
   "source": [
    "# Create token stream (`data: Tensor`) from encoded text (tokens)\n",
    "import torch\n",
    "data = torch.tensor(encode(text), dtype=torch.long)\n",
    "print(data.shape, data.dtype)\n",
    "print(data[:1000])"
   ],
   "metadata": {
    "collapsed": false,
    "pycharm": {
     "name": "#%%\n"
    }
   }
  },
  {
   "cell_type": "markdown",
   "source": [
    "## Set up hyperparameters"
   ],
   "metadata": {
    "collapsed": false,
    "pycharm": {
     "name": "#%% md\n"
    }
   }
  },
  {
   "cell_type": "code",
   "execution_count": 126,
   "outputs": [],
   "source": [
    "block_size = 8  # max context length for predictions\n",
    "batch_size = 4  # num parallel sequences to process\n",
    "learning_rate = 1e-3\n",
    "device = 'cuda' if torch.cuda.is_available() else 'cpu'\n",
    "eval_interval = 300\n",
    "eval_iters = 200\n",
    "max_iters = 5000"
   ],
   "metadata": {
    "collapsed": false,
    "pycharm": {
     "name": "#%%\n"
    }
   }
  },
  {
   "cell_type": "markdown",
   "source": [
    "## Prepare training data"
   ],
   "metadata": {
    "collapsed": false,
    "pycharm": {
     "name": "#%% md\n"
    }
   }
  },
  {
   "cell_type": "markdown",
   "source": [
    "Split data into training and validation set"
   ],
   "metadata": {
    "collapsed": false,
    "pycharm": {
     "name": "#%% md\n"
    }
   }
  },
  {
   "cell_type": "code",
   "execution_count": 127,
   "outputs": [
    {
     "name": "stdout",
     "output_type": "stream",
     "text": [
      "693639\n",
      "77072\n"
     ]
    }
   ],
   "source": [
    "n = int(.9*len(data))\n",
    "train_data = data[:n]\n",
    "val_data = data[n:]\n",
    "print(len(train_data))\n",
    "print(len(val_data))"
   ],
   "metadata": {
    "collapsed": false,
    "pycharm": {
     "name": "#%%\n"
    }
   }
  },
  {
   "cell_type": "code",
   "execution_count": 128,
   "outputs": [
    {
     "name": "stdout",
     "output_type": "stream",
     "text": [
      "[3] -> 55\n",
      "[3, 55] -> 50\n",
      "[3, 55, 50] -> 62\n",
      "[3, 55, 50, 62] -> 75\n",
      "[3, 55, 50, 62, 75] -> 76\n",
      "[3, 55, 50, 62, 75, 76] -> 62\n",
      "[3, 55, 50, 62, 75, 76, 62] -> 56\n",
      "[3, 55, 50, 62, 75, 76, 62, 56] -> 0\n"
     ]
    }
   ],
   "source": [
    "# X is training inputs\n",
    "# Y is target outputs (labels)\n",
    "x = train_data[:block_size]\n",
    "y = train_data[1:block_size+1]\n",
    "for t in range(block_size):\n",
    "    context = x[:t+1]\n",
    "    target = y[t]\n",
    "    print(f\"{context.tolist()} -> {target}\")"
   ],
   "metadata": {
    "collapsed": false,
    "pycharm": {
     "name": "#%%\n"
    }
   }
  },
  {
   "cell_type": "markdown",
   "source": [
    "## Set up batch function"
   ],
   "metadata": {
    "collapsed": false,
    "pycharm": {
     "name": "#%% md\n"
    }
   }
  },
  {
   "cell_type": "code",
   "execution_count": 129,
   "outputs": [
    {
     "name": "stdout",
     "output_type": "stream",
     "text": [
      "x.shape=torch.Size([4, 8])\n"
     ]
    }
   ],
   "source": [
    "batch_ixs = torch.randint(len(data) - block_size, (4,))\n",
    "x = torch.stack([data[i:i+block_size] for i in batch_ixs])\n",
    "print(f\"{x.shape=}\")"
   ],
   "metadata": {
    "collapsed": false,
    "pycharm": {
     "name": "#%%\n"
    }
   }
  },
  {
   "cell_type": "code",
   "execution_count": 130,
   "outputs": [
    {
     "name": "stdout",
     "output_type": "stream",
     "text": [
      "# INPUT BATCH [X]\n",
      "torch.Size([4, 8])\n",
      "tensor([[ 1, 77, 65, 62,  1, 73, 72, 68],\n",
      "        [63, 62,  1, 58, 71, 61,  1, 37],\n",
      "        [83,  1, 60, 58, 75,  1, 71, 72],\n",
      "        [ 1, 37,  1, 61, 72, 71,  7, 77]])\n",
      "# TARGET BATCH [Y]\n",
      "torch.Size([4, 8])\n",
      "tensor([[77, 65, 62,  1, 73, 72, 68, 62],\n",
      "        [62,  1, 58, 71, 61,  1, 37,  7],\n",
      "        [ 1, 60, 58, 75,  1, 71, 72, 77],\n",
      "        [37,  1, 61, 72, 71,  7, 77,  1]])\n",
      "[1] -> 77\n",
      "[1, 77] -> 65\n",
      "[1, 77, 65] -> 62\n",
      "[1, 77, 65, 62] -> 1\n",
      "[1, 77, 65, 62, 1] -> 73\n",
      "[1, 77, 65, 62, 1, 73] -> 72\n",
      "[1, 77, 65, 62, 1, 73, 72] -> 68\n",
      "[1, 77, 65, 62, 1, 73, 72, 68] -> 62\n",
      "[63] -> 62\n",
      "[63, 62] -> 1\n",
      "[63, 62, 1] -> 58\n",
      "[63, 62, 1, 58] -> 71\n",
      "[63, 62, 1, 58, 71] -> 61\n",
      "[63, 62, 1, 58, 71, 61] -> 1\n",
      "[63, 62, 1, 58, 71, 61, 1] -> 37\n",
      "[63, 62, 1, 58, 71, 61, 1, 37] -> 7\n",
      "[83] -> 1\n",
      "[83, 1] -> 60\n",
      "[83, 1, 60] -> 58\n",
      "[83, 1, 60, 58] -> 75\n",
      "[83, 1, 60, 58, 75] -> 1\n",
      "[83, 1, 60, 58, 75, 1] -> 71\n",
      "[83, 1, 60, 58, 75, 1, 71] -> 72\n",
      "[83, 1, 60, 58, 75, 1, 71, 72] -> 77\n",
      "[1] -> 37\n",
      "[1, 37] -> 1\n",
      "[1, 37, 1] -> 61\n",
      "[1, 37, 1, 61] -> 72\n",
      "[1, 37, 1, 61, 72] -> 71\n",
      "[1, 37, 1, 61, 72, 71] -> 7\n",
      "[1, 37, 1, 61, 72, 71, 7] -> 77\n",
      "[1, 37, 1, 61, 72, 71, 7, 77] -> 1\n"
     ]
    }
   ],
   "source": [
    "# Introduce a batch dimension\n",
    "\n",
    "torch.manual_seed(11235)\n",
    "batch_size = 4 # num of independent sequences to process in each forward and backward pass of the Transformer (in parallel)\n",
    "# block_size = 8 # max context length to make predictions\n",
    "\n",
    "def get_batch(is_training =True):\n",
    "    # row length = block_size\n",
    "    # number of rows (height) = batch_size\n",
    "    # generate a small batch of data of inputs `x` and targets `y`\n",
    "    batch_data = train_data if is_training else val_data\n",
    "\n",
    "    # e.g. ix=tensor([ 76049, 234249, 934904, 560986])\n",
    "    ix = torch.randint(len(batch_data) - block_size, (batch_size,))\n",
    "\n",
    "    # add\n",
    "    x = torch.stack([batch_data[i:i+block_size] for i in ix])\n",
    "    y = torch.stack([batch_data[i+1:i+block_size+1] for i in ix])\n",
    "    return x,y\n",
    "\n",
    "xb, yb = get_batch(is_training=True)\n",
    "print('# INPUT BATCH [X]')\n",
    "print(xb.shape)\n",
    "print(xb)\n",
    "print('# TARGET BATCH [Y]')\n",
    "print(yb.shape)\n",
    "print(yb)\n",
    "\n",
    "for b in range(batch_size): # batch dim\n",
    "    for t in range(block_size): # time dim\n",
    "        context = xb[b, :t+1]\n",
    "        target = yb[b, t]\n",
    "        print(f\"{context.tolist()} -> {target}\")"
   ],
   "metadata": {
    "collapsed": false,
    "pycharm": {
     "name": "#%%\n"
    }
   }
  },
  {
   "cell_type": "markdown",
   "source": [
    "## Define the model"
   ],
   "metadata": {
    "collapsed": false,
    "pycharm": {
     "name": "#%% md\n"
    }
   }
  },
  {
   "cell_type": "markdown",
   "source": [
    "Scaled dot-product attention"
   ],
   "metadata": {
    "collapsed": false,
    "pycharm": {
     "name": "#%% md\n"
    }
   }
  },
  {
   "cell_type": "code",
   "execution_count": 131,
   "outputs": [
    {
     "data": {
      "text/plain": "tensor([[7.7420e-04, 0.0000e+00, 0.0000e+00, 0.0000e+00, 0.0000e+00, 0.0000e+00,\n         0.0000e+00, 0.0000e+00],\n        [2.7211e-02, 2.4316e-02, 0.0000e+00, 0.0000e+00, 0.0000e+00, 0.0000e+00,\n         0.0000e+00, 0.0000e+00],\n        [8.8043e-02, 3.6264e-01, 2.4946e-02, 0.0000e+00, 0.0000e+00, 0.0000e+00,\n         0.0000e+00, 0.0000e+00],\n        [5.4863e-03, 1.7979e-02, 3.2797e-01, 7.7253e-02, 0.0000e+00, 0.0000e+00,\n         0.0000e+00, 0.0000e+00],\n        [4.1100e-03, 3.4731e-01, 1.1151e-01, 4.4456e-01, 9.4412e-01, 0.0000e+00,\n         0.0000e+00, 0.0000e+00],\n        [1.7039e-03, 6.3276e-02, 3.7852e-01, 5.1925e-02, 2.7792e-02, 1.0309e-01,\n         0.0000e+00, 0.0000e+00],\n        [2.8035e-02, 1.4495e-01, 1.4505e-01, 3.2157e-01, 7.6504e-03, 7.3760e-01,\n         9.3291e-01, 0.0000e+00],\n        [8.4464e-01, 3.9537e-02, 1.2001e-02, 1.0469e-01, 2.0437e-02, 1.5931e-01,\n         6.7092e-02, 1.0000e+00]], grad_fn=<SelectBackward0>)"
     },
     "execution_count": 131,
     "metadata": {},
     "output_type": "execute_result"
    }
   ],
   "source": [
    "B, T, C = 4, 8, 32\n",
    "x = torch.randn(B, T, C)\n",
    "\n",
    "# single head self-attention\n",
    "head_size = 16 # number of features\n",
    "query = nn.Linear(C, head_size, bias=False)\n",
    "key = nn.Linear(C, head_size, bias=False)\n",
    "value = nn.Linear(C, head_size, bias=False)\n",
    "\n",
    "# Every node (token) emits two vectors:\n",
    "# 1. query (Q) - what a token is looking for\n",
    "# 2. key (k) - what a token is\n",
    "q = query(x) # (B, T, 16)\n",
    "k = key(x)   # (B, T, 16)\n",
    "\n",
    "# Transpose the last two dimensions of k -> (B, 16, T)\n",
    "# (B, T, 16) @ (B, 16, T) -> (B, T, T)\n",
    "ws = q @ k.transpose(-2, -1)\n",
    "\n",
    "# only pay attention to preceding tokens\n",
    "tril = torch.tril(torch.ones(T, T))\n",
    "# ws = torch.zeros(T, T)\n",
    "ws = ws.masked_fill(tril == 0, float('-inf'))\n",
    "# normalise\n",
    "ws = F.softmax(ws, dim=1)\n",
    "\n",
    "# the content that a token has to offer\n",
    "v = value(x)\n",
    "\n",
    "# weighted aggregation of past tokens\n",
    "out = ws @ v\n",
    "\n",
    "# attention weights of tokens in first sequence\n",
    "ws[0]"
   ],
   "metadata": {
    "collapsed": false,
    "pycharm": {
     "name": "#%%\n"
    }
   }
  },
  {
   "cell_type": "code",
   "execution_count": 132,
   "outputs": [],
   "source": [
    "class Head(nn.Module):\n",
    "    \"\"\"A head of self attention\"\"\"\n",
    "\n",
    "    def __init__(self, head_size):\n",
    "        super().__init__()\n",
    "        # Initialise Q, K, V\n",
    "        self.query = nn.Linear(n_embd, head_size, bias=False)\n",
    "        self.key = nn.Linear(n_embd, head_size, bias=False)\n",
    "        self.value = nn.Linear(n_embd, head_size, bias=False)\n",
    "\n",
    "        # the mask doesn't get updated during backpropagation (optimizer step)\n",
    "        # but is part of the state of the model, so saved and loaded with the model\n",
    "        self.register_buffer('tril', torch.tril(torch.ones(block_size, block_size)))\n",
    "\n",
    "    def forward(self, x):\n",
    "        B, T, C = x.shape\n",
    "        q = self.query(x) # (B, T, C)\n",
    "        k = self.key(x)   # (B, T, C)\n",
    "\n",
    "        # compute attention scores (\"affinities\")\n",
    "        ws = q @ k.transpose(-2, -1) # (B, T, C) @ (B, C, T) -> (B, T, T)\n",
    "        ws = ws.masked_fill(self.tril[:T, :T] == 0, float('-inf')) # (B, T, T)\n",
    "\n",
    "        # softmax the logits\n",
    "        ws = F.softmax(ws, dim=-1)\n",
    "\n",
    "        v = self.value(x) # (B, T, C)\n",
    "        out = ws @ v # (B, T, T) @ (B, T, C) -> (B, T, C)\n",
    "        return out\n"
   ],
   "metadata": {
    "collapsed": false,
    "pycharm": {
     "name": "#%%\n"
    }
   }
  },
  {
   "cell_type": "markdown",
   "source": [
    "Model"
   ],
   "metadata": {
    "collapsed": false,
    "pycharm": {
     "name": "#%% md\n"
    }
   }
  },
  {
   "cell_type": "code",
   "execution_count": 133,
   "outputs": [
    {
     "name": "stdout",
     "output_type": "stream",
     "text": [
      "logits: torch.Size([32, 104])\n",
      "4.682135581970215\n",
      "\n",
      "ó_z;0(S(u03p1RqNYaU’ticYjl\"6ëLw_:2x7hhNAñw(36 (OjIYqóBE–C;-XYV…H$O'E):3…[phv%sJxè9JM&aCC|né)Qd1((q6T\n"
     ]
    }
   ],
   "source": [
    "import torch\n",
    "import torch.nn as nn\n",
    "from torch.nn import functional as F\n",
    "torch.manual_seed(1337)\n",
    "\n",
    "# number of embedding dimensions\n",
    "n_embd = 32\n",
    "\n",
    "class DecoderLanguageModel(nn.Module):\n",
    "\n",
    "    def __init__(self):\n",
    "        super().__init__()\n",
    "        self.token_embedding_table = nn.Embedding(vocab_size, n_embd)\n",
    "        self.position_embedding_table = nn.Embedding(block_size, n_embd)\n",
    "\n",
    "        # self-attention head\n",
    "        self.sa_head = Head(n_embd)\n",
    "\n",
    "        # language-modelling head\n",
    "        self.lm_head = nn.Linear(n_embd, vocab_size)\n",
    "\n",
    "    def forward(self, idxs: torch.Tensor, targets=None):\n",
    "\n",
    "        B, T = idx.shape\n",
    "\n",
    "        # Sum text and position information\n",
    "        tok_emb = self.token_embedding_table(idxs) # (B, T, C)\n",
    "        pos_emb = self.position_embedding_table(torch.arange(T, device=device)) # (T, C)\n",
    "\n",
    "        # sum token embeddings with broadcast position embeddings, right-aligned as (1, T, C)\n",
    "        x = tok_emb + pos_emb\n",
    "\n",
    "        # apply masked self-attention\n",
    "        x = self.sa_head(x) # one head of self-attention. (B, T, C)\n",
    "        logits = self.lm_head(x)\n",
    "\n",
    "        if targets is None:\n",
    "            # inference mode -> we don't need to calculate loss\n",
    "            loss = None\n",
    "        else:\n",
    "            # training mode -> we need to calculate loss\n",
    "\n",
    "            # negative log likelihood loss\n",
    "            # pytorch wants B x T x C\n",
    "            B, T, C = logits.shape\n",
    "            # print(f\"B, T, C = {logits.shape=}\")\n",
    "            logits = logits.view(B * T, C)\n",
    "            targets = targets.view(B * T) # or .view(-1)\n",
    "\n",
    "            # Compute loss between logit and target tensors\n",
    "            loss = F.cross_entropy(logits, targets)\n",
    "\n",
    "        return logits, loss\n",
    "\n",
    "    def generate(self, idxs, max_new_tokens):\n",
    "        \"\"\"\n",
    "        Inference.\n",
    "        Turns a (B, T) array of indices into (B, T+1), (B, T+2)... (B, T+N)\n",
    "        :param idx: a (B, T) array of indices in the current context\n",
    "        :param max_new_tokens:\n",
    "        :return: a (B, T+max_new_tokens) array of indices\n",
    "        \"\"\"\n",
    "        for _ in range(max_new_tokens):\n",
    "            # crop tokens that fit into context\n",
    "            cropped_idxs = idx[:, -block_size:]\n",
    "            # get predictions\n",
    "            logits, loss = self(cropped_idxs)\n",
    "            # take the logits for the last token in the current sequence\n",
    "            logits = logits[:, -1, :] # becomes (B, C), taking the last in the T dimension\n",
    "            # apply softmax to get probabilities\n",
    "            probs = F.softmax(logits, dim=-1) # (B, C)\n",
    "            # sample from distribution\n",
    "            next_ix = torch.multinomial(probs, num_samples=1) # (B, 1)\n",
    "            # append sampled index to the running sequence\n",
    "            idxs = torch.cat((idxs, next_ix), dim=1) # (B, T+1)\n",
    "        return idxs\n",
    "\n",
    "\n",
    "def test_model():\n",
    "    m = DecoderLanguageModel()\n",
    "    logits, loss = m(xb, yb)\n",
    "    print(f\"logits: {logits.shape}\")\n",
    "    print(loss.item())\n",
    "\n",
    "    context = torch.zeros([1, 1], dtype=torch.long, device=device)\n",
    "    print(decode(m.generate(context, max_new_tokens=100)[0].tolist()))\n",
    "\n",
    "\n",
    "test_model()"
   ],
   "metadata": {
    "collapsed": false,
    "pycharm": {
     "name": "#%%\n"
    }
   }
  },
  {
   "cell_type": "markdown",
   "source": [
    "## Train the model"
   ],
   "metadata": {
    "collapsed": false,
    "pycharm": {
     "name": "#%% md\n"
    }
   }
  },
  {
   "cell_type": "markdown",
   "source": [
    "Prepare to estimate loss"
   ],
   "metadata": {
    "collapsed": false,
    "pycharm": {
     "name": "#%% md\n"
    }
   }
  },
  {
   "cell_type": "code",
   "execution_count": 134,
   "outputs": [],
   "source": [
    "@torch.no_grad()\n",
    "def estimate_loss():\n",
    "    out = {}\n",
    "    m.eval()\n",
    "    for split in ['train', 'val']:\n",
    "        losses = torch.zeros(eval_iters)\n",
    "        for i in range(eval_iters):\n",
    "            X, Y = get_batch(is_training=split == 'train')\n",
    "            logits, loss = m(X, Y)\n",
    "            losses[i] = loss.item()\n",
    "        out[split] = losses.mean()\n",
    "    m.train()\n",
    "    return out"
   ],
   "metadata": {
    "collapsed": false,
    "pycharm": {
     "name": "#%%\n"
    }
   }
  },
  {
   "cell_type": "markdown",
   "source": [
    "Define the training"
   ],
   "metadata": {
    "collapsed": false,
    "pycharm": {
     "name": "#%% md\n"
    }
   }
  },
  {
   "cell_type": "code",
   "execution_count": 135,
   "outputs": [],
   "source": [
    "def train(model: nn.Module, train_steps=10_000):\n",
    "    loss_values = []\n",
    "    loss = None\n",
    "    for step in range(train_steps):\n",
    "\n",
    "        # Sample a batch of data for training. `xb` contains the input sequences and `yb` contains the target sequences.\n",
    "        xb, yb = get_batch(is_training=True)\n",
    "\n",
    "        # Forward pass: Compute predictions (logits) and loss for this batch using the model.\n",
    "        # loss= L(yb, logits) where L is loss function (cross-entropy)\n",
    "        logits, loss = model(xb, yb)\n",
    "\n",
    "        # Before computing the gradients, we need to zero out the gradients from the previous step.\n",
    "        # This is because PyTorch accumulates gradients on subsequent backward passes.\n",
    "        # Set gradients of all params to zero: ∇params = 0\n",
    "        optimizer.zero_grad(set_to_none=True)\n",
    "\n",
    "        # Backward pass: Compute the gradients of the loss with respect to the model's parameters.\n",
    "        # ∇params = d(loss)/d(params)\n",
    "        loss.backward()\n",
    "\n",
    "        # Update the model's parameters using the computed gradients.\n",
    "        # params' = params - learning_rate * ∇params\n",
    "        optimizer.step()\n",
    "\n",
    "        # store the detached loss value for this step\n",
    "        loss_values.append(loss.detach().item())\n",
    "\n",
    "        # print loss at intervals\n",
    "        if step % 500 == 0:\n",
    "            estimated_loss = estimate_loss()\n",
    "            print(f\"step {step} – training loss: {estimated_loss['train']} | val loss: {estimated_loss['val']}\")\n",
    "\n",
    "    # print loss for the last batch\n",
    "    # not necessarily the average or total loss for all batches.\n",
    "    if loss is not None:\n",
    "        print(f\"loss after {train_steps} training steps: {loss.detach().item()}\")\n",
    "    return loss_values"
   ],
   "metadata": {
    "collapsed": false,
    "pycharm": {
     "name": "#%%\n"
    }
   }
  },
  {
   "cell_type": "code",
   "execution_count": 136,
   "outputs": [
    {
     "name": "stdout",
     "output_type": "stream",
     "text": [
      "step 0 – training loss: 4.653793811798096 | val loss: 4.654931545257568\n",
      "step 500 – training loss: 2.912972927093506 | val loss: 2.936095952987671\n",
      "step 1000 – training loss: 2.6961212158203125 | val loss: 2.761188268661499\n",
      "step 1500 – training loss: 2.5978713035583496 | val loss: 2.6776621341705322\n",
      "step 2000 – training loss: 2.56503963470459 | val loss: 2.6680219173431396\n",
      "step 2500 – training loss: 2.5211637020111084 | val loss: 2.5920658111572266\n",
      "step 3000 – training loss: 2.5257019996643066 | val loss: 2.5888564586639404\n",
      "step 3500 – training loss: 2.5213820934295654 | val loss: 2.5993714332580566\n",
      "step 4000 – training loss: 2.5371172428131104 | val loss: 2.5379714965820312\n",
      "step 4500 – training loss: 2.541090488433838 | val loss: 2.5741491317749023\n",
      "step 5000 – training loss: 2.5216739177703857 | val loss: 2.5315027236938477\n",
      "step 5500 – training loss: 2.5214366912841797 | val loss: 2.5504910945892334\n",
      "step 6000 – training loss: 2.5027801990509033 | val loss: 2.5291314125061035\n",
      "step 6500 – training loss: 2.4840264320373535 | val loss: 2.5232455730438232\n",
      "step 7000 – training loss: 2.474482297897339 | val loss: 2.5378258228302\n",
      "step 7500 – training loss: 2.4963202476501465 | val loss: 2.5063483715057373\n",
      "step 8000 – training loss: 2.5226101875305176 | val loss: 2.525627851486206\n",
      "step 8500 – training loss: 2.4982011318206787 | val loss: 2.531614303588867\n",
      "step 9000 – training loss: 2.4905624389648438 | val loss: 2.5393059253692627\n",
      "step 9500 – training loss: 2.4850852489471436 | val loss: 2.551143169403076\n",
      "loss after 10000 training steps: 2.323354959487915\n"
     ]
    }
   ],
   "source": [
    "model = DecoderLanguageModel()\n",
    "m = model.to(device)\n",
    "\n",
    "# Initialize the optimiser with the parameters of the model `m` and a learning rate of 1e-3.\n",
    "# AdamW is a variant of the Adam optimiser that has weight decay regularization.\n",
    "optimizer = torch.optim.AdamW(m.parameters(), lr=1e-3) # learning rate of 1e-4 for bigger NNs\n",
    "\n",
    "train_steps = 10_000\n",
    "loss_values = train(model=m, train_steps=train_steps)"
   ],
   "metadata": {
    "collapsed": false,
    "pycharm": {
     "name": "#%%\n"
    }
   }
  },
  {
   "cell_type": "markdown",
   "source": [
    "### Analyse loss"
   ],
   "metadata": {
    "collapsed": false,
    "pycharm": {
     "name": "#%% md\n"
    }
   }
  },
  {
   "cell_type": "code",
   "execution_count": 137,
   "outputs": [
    {
     "data": {
      "text/plain": "<Figure size 1000x500 with 1 Axes>",
      "image/png": "[encoded data removed]"
     },
     "metadata": {},
     "output_type": "display_data"
    }
   ],
   "source": [
    "import matplotlib.pyplot as plt\n",
    "\n",
    "# plot loss values\n",
    "plt.figure(figsize=(10, 5))\n",
    "plt.plot(loss_values, label=f\"{train_steps} steps\")\n",
    "plt.xlabel('training step')\n",
    "plt.ylabel('loss')\n",
    "plt.title('loss vs training steps')\n",
    "plt.legend()\n",
    "plt.show()"
   ],
   "metadata": {
    "collapsed": false,
    "pycharm": {
     "name": "#%%\n"
    }
   }
  },
  {
   "cell_type": "markdown",
   "source": [
    "## Predict"
   ],
   "metadata": {
    "collapsed": false,
    "pycharm": {
     "name": "#%% md\n"
    }
   }
  },
  {
   "cell_type": "code",
   "execution_count": 138,
   "outputs": [
    {
     "name": "stdout",
     "output_type": "stream",
     "text": [
      "\n",
      "IYB\n",
      "YGY'[DWDB\n",
      "GMSFIHNAYCA\"YTD\n",
      "TI\n",
      "\"HW[\n",
      "\"YY(IAYAASAYWTGILAO\"WTW[SA:DMSRIBCWARLFASJSWDIT[IAGY\n",
      "ATW[ITTGIHISMIIDCPAWFTFASWFdAYLAII(MT[YW[ATWA\n",
      "AYW\"Y\n",
      "IMWTTIA\n",
      "IPOA2[LIEAWIAT[TPWBAWYI\"I[AYSiIYMW[BIBTTLHTA[[PYLITABSIWIL[NTIO\"GSYTGBAYTRAWIS[[['[[RCMTBMIYIITIATRNTBTTIM’Y\n",
      "FTIYA[IIMTIOBYT\n",
      "HSITGY\n",
      "BHB[W\n",
      "IYIAHGIATYI\n"
     ]
    }
   ],
   "source": [
    "idx = torch.zeros([1, 1], dtype=torch.long)\n",
    "print(decode(m.generate(idx, max_new_tokens=300)[0].tolist()))"
   ],
   "metadata": {
    "collapsed": false,
    "pycharm": {
     "name": "#%%\n"
    }
   }
  },
  {
   "cell_type": "markdown",
   "source": [
    "## Appendix"
   ],
   "metadata": {
    "collapsed": false,
    "pycharm": {
     "name": "#%% md\n"
    }
   }
  },
  {
   "cell_type": "markdown",
   "source": [
    "Model parameters"
   ],
   "metadata": {
    "collapsed": false,
    "pycharm": {
     "name": "#%% md\n"
    }
   }
  },
  {
   "cell_type": "code",
   "execution_count": 139,
   "outputs": [
    {
     "name": "stdout",
     "output_type": "stream",
     "text": [
      "type(param)=<class 'torch.nn.parameter.Parameter'> - param=Parameter containing:\n",
      "tensor([[-0.3673,  0.2410, -1.5948,  ..., -1.1919,  0.2108,  0.3063],\n",
      "        [ 0.1703, -0.6376,  0.0831,  ...,  1.7071, -0.2871,  1.3746],\n",
      "        [-0.1138,  1.1233,  0.6161,  ..., -0.8544,  1.1236,  0.7157],\n",
      "        ...,\n",
      "        [ 0.4473,  0.7131, -0.2975,  ...,  0.0716,  0.8265,  0.2881],\n",
      "        [ 0.6123,  0.0718,  1.5563,  ..., -0.1830, -0.9508, -0.4449],\n",
      "        [-1.3940,  0.7285, -0.0385,  ..., -0.3494,  0.7610, -1.4065]],\n",
      "       requires_grad=True): param.size()=torch.Size([104, 32])\n",
      "type(param)=<class 'torch.nn.parameter.Parameter'> - param=Parameter containing:\n",
      "tensor([[ 0.4469,  0.0686, -0.5936, -0.3778, -0.4723,  0.2290, -0.1857,  0.2374,\n",
      "         -0.1527,  0.5924,  0.1400,  0.0943, -0.5390, -1.0642,  0.3637,  1.8483,\n",
      "         -0.8170, -0.0585,  0.5910, -1.1764,  0.6504, -1.2327,  0.6541,  0.3159,\n",
      "         -0.3246, -0.1503,  1.0383,  1.5434, -0.8378,  0.0761,  0.4234,  0.0726],\n",
      "        [-0.6677,  0.2526,  0.3734, -0.3332, -0.2537,  0.1891,  0.4481,  0.2366,\n",
      "         -0.8660, -0.2339, -0.8329, -0.9971, -0.3005, -1.2289,  1.3776, -0.6162,\n",
      "         -0.0228,  1.8058, -0.7145,  0.6660,  0.0779,  0.1598,  0.1876,  0.6851,\n",
      "          0.5312, -0.0934, -0.2958, -0.4684, -0.3708,  1.1322, -1.3371,  0.2209],\n",
      "        [-0.6954, -0.5213, -0.3589, -0.5857,  0.2766, -0.7534, -0.3110,  0.4450,\n",
      "          0.0260,  0.0311, -0.7175,  1.2606,  0.6689,  1.2096, -1.3665,  0.6527,\n",
      "          0.2329, -0.2145, -0.9888, -1.0009,  0.1221,  0.8465,  0.1215, -0.7581,\n",
      "          1.9427,  1.5204, -1.4150, -0.8375, -0.9948, -0.3674,  0.8279, -0.3841],\n",
      "        [-0.7967,  0.3783,  0.0597,  0.6229, -0.4860, -0.3350,  0.3031, -1.1341,\n",
      "         -0.7471, -0.2319, -2.0072,  0.5473, -0.9207,  0.1862,  0.7602, -1.1155,\n",
      "         -1.7555,  0.7945, -1.0270,  1.0399,  2.2796, -0.6512, -0.5668, -1.0315,\n",
      "         -0.2342, -0.3961,  0.6920,  0.9292,  1.3246,  1.0891,  0.7122, -0.9623],\n",
      "        [-1.0643,  0.1970, -0.2811,  0.5822, -0.0273, -1.3790, -0.5847,  1.0092,\n",
      "          0.7998,  0.1715,  0.6815, -1.4101, -0.0534, -0.2200, -0.3982,  1.2815,\n",
      "         -0.4539, -0.3175, -0.4261, -0.8400,  0.1041, -0.4710,  0.1429, -0.0146,\n",
      "         -0.2587, -0.5890, -1.9883,  0.7126, -1.3835, -1.2698, -0.3941,  0.0254],\n",
      "        [ 1.6764, -1.3043, -1.1330, -0.6012, -0.2380,  1.5764, -0.1331, -0.5131,\n",
      "          1.0278, -0.5282,  0.4193, -0.2991, -0.0454, -0.0861, -0.0896,  1.5481,\n",
      "         -0.1868, -0.9456,  0.7097, -0.7835, -0.4753, -0.4418,  0.0275,  0.5388,\n",
      "          0.3585,  0.5908,  0.2113, -1.3153, -0.4520, -1.2644, -0.5553, -0.2021],\n",
      "        [-1.8468, -0.4295,  0.9094,  1.5385, -0.2970, -0.1396, -2.3142,  0.1410,\n",
      "         -0.9339, -0.7197, -0.1592,  0.7055,  0.8366,  1.3248,  0.9306, -1.3395,\n",
      "         -0.1942,  0.5592,  0.2733, -1.4254, -0.4840, -1.5138, -1.8179, -1.6719,\n",
      "         -0.0230,  0.6328,  0.2704,  0.9332,  0.2288,  0.0068,  0.8762, -0.9796],\n",
      "        [-0.3367,  0.7544,  1.8800,  0.1573,  0.4001, -0.7992, -0.3841, -0.1161,\n",
      "          0.3184,  0.2397,  0.2381, -0.7590,  1.5050, -0.2672, -0.3721, -1.0535,\n",
      "          0.1149,  0.0587, -0.2403,  0.8229, -0.5936, -1.2324,  1.1355,  1.9864,\n",
      "          0.0324, -0.1547, -0.4735,  0.5796, -0.1393, -0.0101,  0.6473, -1.4013]],\n",
      "       requires_grad=True): param.size()=torch.Size([8, 32])\n",
      "type(param)=<class 'torch.nn.parameter.Parameter'> - param=Parameter containing:\n",
      "tensor([[ 0.0727,  0.1132,  0.1961,  ..., -0.1471,  0.0220, -0.0240],\n",
      "        [ 0.0164,  0.2329,  0.0782,  ..., -0.1069,  0.0699, -0.1431],\n",
      "        [ 0.0899, -0.0813, -0.0526,  ...,  0.1872, -0.1105,  0.1473],\n",
      "        ...,\n",
      "        [ 0.0998,  0.0695,  0.1727,  ...,  0.2100,  0.0759,  0.0227],\n",
      "        [-0.0135,  0.0834,  0.1171,  ..., -0.0498, -0.1111,  0.2237],\n",
      "        [ 0.1253,  0.0133, -0.0137,  ...,  0.0297,  0.0947,  0.1414]],\n",
      "       requires_grad=True): param.size()=torch.Size([32, 32])\n",
      "type(param)=<class 'torch.nn.parameter.Parameter'> - param=Parameter containing:\n",
      "tensor([[ 0.0717,  0.0617,  0.1535,  ..., -0.0445, -0.0499, -0.0346],\n",
      "        [-0.0109,  0.1765,  0.2105,  ...,  0.0549,  0.0660, -0.1349],\n",
      "        [-0.0052, -0.0746, -0.0372,  ...,  0.0775, -0.0595,  0.0881],\n",
      "        ...,\n",
      "        [ 0.1072,  0.0250,  0.1554,  ...,  0.1686,  0.0696, -0.1011],\n",
      "        [ 0.0827,  0.0847, -0.1434,  ..., -0.0877, -0.2222,  0.2074],\n",
      "        [ 0.1913, -0.0073,  0.0553,  ...,  0.0750,  0.1474,  0.0879]],\n",
      "       requires_grad=True): param.size()=torch.Size([32, 32])\n",
      "type(param)=<class 'torch.nn.parameter.Parameter'> - param=Parameter containing:\n",
      "tensor([[ 0.4046, -0.1801,  0.1039,  ...,  0.2280,  0.1956, -0.0851],\n",
      "        [-0.1024,  0.0523,  0.0509,  ...,  0.0469,  0.0507, -0.0981],\n",
      "        [ 0.0808, -0.2284,  0.4227,  ...,  0.1478, -0.1668,  0.0396],\n",
      "        ...,\n",
      "        [-0.2015,  0.0068, -0.2663,  ...,  0.1842, -0.0388, -0.3908],\n",
      "        [-0.1378,  0.1034,  0.0838,  ..., -0.3101,  0.0241,  0.2289],\n",
      "        [-0.1084,  0.1782,  0.1217,  ...,  0.0929, -0.1299, -0.1420]],\n",
      "       requires_grad=True): param.size()=torch.Size([32, 32])\n",
      "type(param)=<class 'torch.nn.parameter.Parameter'> - param=Parameter containing:\n",
      "tensor([[ 0.0012, -0.1343, -0.0632,  ...,  0.0705,  0.1097, -0.0333],\n",
      "        [-0.0179,  0.2018,  0.0918,  ..., -0.1376,  0.1776,  0.0074],\n",
      "        [ 0.2019, -0.1926,  0.0798,  ...,  0.3913, -0.1280, -0.0320],\n",
      "        ...,\n",
      "        [-0.0299, -0.1736,  0.4497,  ...,  0.4503, -0.3609, -0.2368],\n",
      "        [ 0.0495, -0.2519,  0.3876,  ...,  0.3123, -0.3067, -0.2320],\n",
      "        [-0.0214, -0.2562,  0.2208,  ...,  0.3507, -0.1770, -0.1786]],\n",
      "       requires_grad=True): param.size()=torch.Size([104, 32])\n",
      "type(param)=<class 'torch.nn.parameter.Parameter'> - param=Parameter containing:\n",
      "tensor([ 0.1353,  0.0057, -0.1927,  0.2549, -0.3268, -0.4447, -0.1818,  0.0071,\n",
      "        -0.0525, -0.1473, -0.2080, -0.4563,  0.0581, -0.1473, -0.0875, -0.4686,\n",
      "        -0.3003, -0.1556, -0.2650, -0.1688, -0.1544, -0.1815, -0.3118, -0.1370,\n",
      "        -0.3249, -0.3158, -0.1316, -0.3683, -0.2388,  0.0447,  0.0723,  0.0224,\n",
      "        -0.1663, -0.0274, -0.0450, -0.1709,  0.0903,  0.2002, -0.0464, -0.1512,\n",
      "         0.0841, -0.1066,  0.0703,  0.0177, -0.0089, -0.3114,  0.0985,  0.0055,\n",
      "         0.1251, -0.1938, -0.0425, -0.0463, -0.1207, -0.1371, -0.2490,  0.0136,\n",
      "         0.0368, -0.5325,  0.1039, -0.0608,  0.0380,  0.1011,  0.1972,  0.0165,\n",
      "        -0.1540,  0.1752, -0.0815, -0.0339, -0.0644,  0.0797,  0.1205, -0.0596,\n",
      "         0.1053,  0.0080, -0.3754, -0.0324, -0.0579,  0.0018,  0.1509, -0.0126,\n",
      "        -0.0203, -0.2980,  0.0552, -0.1681, -0.6459, -0.6731, -0.5330, -0.5979,\n",
      "        -0.6004, -0.4007, -0.3026, -0.7447, -0.5517, -0.3932, -0.5523, -0.4099,\n",
      "        -0.4250, -0.1366, -0.2064, -0.1884, -0.5667, -0.2698, -0.3744, -0.3761],\n",
      "       requires_grad=True): param.size()=torch.Size([104])\n"
     ]
    }
   ],
   "source": [
    "for param in m.parameters():\n",
    "    print(f\"{type(param)=} - {param=}: {param.size()=}\")"
   ],
   "metadata": {
    "collapsed": false,
    "pycharm": {
     "name": "#%%\n"
    }
   }
  },
  {
   "cell_type": "markdown",
   "source": [
    "Expected loss (without training)"
   ],
   "metadata": {
    "collapsed": false,
    "pycharm": {
     "name": "#%% md\n"
    }
   }
  },
  {
   "cell_type": "code",
   "execution_count": 140,
   "outputs": [
    {
     "ename": "NameError",
     "evalue": "name 'math' is not defined",
     "output_type": "error",
     "traceback": [
      "\u001B[0;31m---------------------------------------------------------------------------\u001B[0m",
      "\u001B[0;31mNameError\u001B[0m                                 Traceback (most recent call last)",
      "Cell \u001B[0;32mIn[140], line 1\u001B[0m\n\u001B[0;32m----> 1\u001B[0m \u001B[38;5;28mprint\u001B[39m(\u001B[38;5;124mf\u001B[39m\u001B[38;5;124m\"\u001B[39m\u001B[38;5;132;01m{\u001B[39;00m\u001B[38;5;241m-\u001B[39mmath\u001B[38;5;241m.\u001B[39mlog(\u001B[38;5;241m1\u001B[39m\u001B[38;5;241m/\u001B[39m\u001B[38;5;28mlen\u001B[39m(chars))\u001B[38;5;132;01m}\u001B[39;00m\u001B[38;5;124m\"\u001B[39m)\n",
      "\u001B[0;31mNameError\u001B[0m: name 'math' is not defined"
     ]
    }
   ],
   "source": [
    "print(f\"{-math.log(1/len(chars))}\")"
   ],
   "metadata": {
    "collapsed": false,
    "pycharm": {
     "name": "#%%\n"
    }
   }
  }
 ],
 "metadata": {
  "kernelspec": {
   "display_name": "Python 3",
   "language": "python",
   "name": "python3"
  },
  "language_info": {
   "codemirror_mode": {
    "name": "ipython",
    "version": 2
   },
   "file_extension": ".py",
   "mimetype": "text/x-python",
   "name": "python",
   "nbconvert_exporter": "python",
   "pygments_lexer": "ipython2",
   "version": "2.7.6"
  }
 },
 "nbformat": 4,
 "nbformat_minor": 0
}